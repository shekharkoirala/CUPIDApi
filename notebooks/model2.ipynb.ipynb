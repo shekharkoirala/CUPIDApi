{
 "cells": [
  {
   "cell_type": "markdown",
   "id": "548609ce-433b-4a45-8bab-c583f644e53a",
   "metadata": {},
   "source": [
    "# use sentence transformer as the feature, instead of manual feature, should have better semantics from data. "
   ]
  },
  {
   "cell_type": "code",
   "execution_count": 3,
   "id": "9973b0c7-2fd7-4c0d-af5f-0f5966c9f9c6",
   "metadata": {},
   "outputs": [],
   "source": [
    "import json\n",
    "import random\n",
    "with open(\"../data/train.json\", \"r\") as f:\n",
    "    train_data = json.load(f)\n",
    "\n",
    "total_data = train_data[\"train_positive\"] + train_data[\"train_negative\"]\n",
    "random.shuffle(total_data)\n"
   ]
  },
  {
   "cell_type": "code",
   "execution_count": 70,
   "id": "fb9d576f-4b81-4bdf-93db-63f24b4f244e",
   "metadata": {},
   "outputs": [],
   "source": [
    "from sentence_transformers import SentenceTransformer\n",
    "from difflib import SequenceMatcher\n",
    "from sklearn.metrics.pairwise import cosine_similarity\n",
    "from sklearn.feature_extraction.text import TfidfVectorizer\n",
    "import numpy as np\n",
    "from sklearn.preprocessing import StandardScaler\n",
    "from sklearn.feature_selection import SelectKBest, f_classif\n",
    "\n",
    "\n",
    "smodel = SentenceTransformer('all-MiniLM-L6-v2')\n",
    "\n",
    "feature_matrix = []\n",
    "labels = []\n",
    "\n",
    "\n",
    "from difflib import SequenceMatcher\n",
    "from sklearn.metrics.pairwise import cosine_similarity\n",
    "from sklearn.feature_extraction.text import TfidfVectorizer\n",
    "\n",
    "def token_jaccard(s1, s2):\n",
    "    set1, set2 = set(s1.lower().split()), set(s2.lower().split())\n",
    "    return len(set1 & set2) / len(set1 | set2) if set1 and set2 else 0.0\n",
    "\n",
    "def is_substring(s1, s2):\n",
    "    s1_low, s2_low = s1.lower(), s2.lower()\n",
    "    return (s1_low in s2_low) or (s2_low in s1_low)\n",
    "\n",
    "\n",
    "# Compute features\n",
    "feature_matrix = []\n",
    "labels = []\n",
    "\n",
    "\n",
    "all_names = []\n",
    "for s, r, l in total_data:\n",
    "    all_names.extend([s,r])\n",
    "\n",
    "vectorizer = TfidfVectorizer(stop_words='english').fit(all_names)\n",
    "\n",
    "\n",
    "for sup_name, ref_name, label in total_data:\n",
    "    embedding_sup = smodel.encode(sup_name)\n",
    "    embedding_ref = smodel.encode(ref_name)\n",
    "    abs_diff = np.abs(embedding_sup - embedding_ref)\n",
    "    mult_embedding = embedding_sup * embedding_ref\n",
    "\n",
    "    cos_sim = cosine_similarity(vectorizer.transform([sup_name]), vectorizer.transform([ref_name]))[0,0]\n",
    "    jac = token_jaccard(sup_name, ref_name)\n",
    "    substr = 1 if is_substring(sup_name, ref_name) else 0\n",
    "    seq_ratio = SequenceMatcher(None, sup_name.lower(), ref_name.lower()).ratio()\n",
    "\n",
    "    numeric_features = np.array([cos_sim, jac, substr, seq_ratio])\n",
    "    embedding_features = np.concatenate([ embedding_sup, embedding_ref, mult_embedding])\n",
    "    \n",
    "    pair_embedding = np.concatenate([numeric_features, embedding_features])\n",
    "    feature_matrix.append(pair_embedding)\n",
    "    labels.append(label)\n",
    "\n",
    "scaler = StandardScaler()\n",
    "feature_matrix_scaled = scaler.fit_transform(feature_matrix)\n",
    "\n",
    "# selector = SelectKBest(score_func=f_classif, k=1000)\n",
    "# feature_matrix_selected = selector.fit_transform(feature_matrix_scaled, labels)\n",
    "\n",
    "feature_matrix = np.array(feature_matrix_scaled)\n",
    "labels = np.array(labels)\n"
   ]
  },
  {
   "cell_type": "code",
   "execution_count": 86,
   "id": "55f98a84-a492-4175-a38e-9b59d8604888",
   "metadata": {},
   "outputs": [
    {
     "data": {
      "text/plain": [
       "(4000, 1156)"
      ]
     },
     "execution_count": 86,
     "metadata": {},
     "output_type": "execute_result"
    }
   ],
   "source": [
    "feature_matrix.shape"
   ]
  },
  {
   "cell_type": "code",
   "execution_count": 72,
   "id": "22b8d604-a716-4837-a254-542ac1f7037a",
   "metadata": {},
   "outputs": [
    {
     "name": "stdout",
     "output_type": "stream",
     "text": [
      "[0]\tvalidation_0-logloss:0.46611\n"
     ]
    },
    {
     "name": "stderr",
     "output_type": "stream",
     "text": [
      "/home/shekhar/shekhar/CUPIDApi/.venv/lib/python3.12/site-packages/xgboost/training.py:183: UserWarning: [21:51:52] WARNING: /workspace/src/learner.cc:738: \n",
      "Parameters: { \"use_label_encoder\" } are not used.\n",
      "\n",
      "  bst.update(dtrain, iteration=i, fobj=obj)\n"
     ]
    },
    {
     "name": "stdout",
     "output_type": "stream",
     "text": [
      "[1]\tvalidation_0-logloss:0.33459\n",
      "[2]\tvalidation_0-logloss:0.25027\n",
      "[3]\tvalidation_0-logloss:0.19776\n",
      "[4]\tvalidation_0-logloss:0.15966\n",
      "[5]\tvalidation_0-logloss:0.13295\n",
      "[6]\tvalidation_0-logloss:0.11481\n",
      "[7]\tvalidation_0-logloss:0.10090\n",
      "[8]\tvalidation_0-logloss:0.09286\n",
      "[9]\tvalidation_0-logloss:0.08411\n",
      "[10]\tvalidation_0-logloss:0.08099\n",
      "[11]\tvalidation_0-logloss:0.07897\n",
      "[12]\tvalidation_0-logloss:0.07712\n",
      "[13]\tvalidation_0-logloss:0.07593\n",
      "[14]\tvalidation_0-logloss:0.07532\n",
      "[15]\tvalidation_0-logloss:0.07655\n",
      "[16]\tvalidation_0-logloss:0.07469\n",
      "[17]\tvalidation_0-logloss:0.07495\n",
      "[18]\tvalidation_0-logloss:0.07471\n",
      "[19]\tvalidation_0-logloss:0.07463\n",
      "[20]\tvalidation_0-logloss:0.07504\n",
      "[21]\tvalidation_0-logloss:0.07623\n",
      "[22]\tvalidation_0-logloss:0.07618\n",
      "[23]\tvalidation_0-logloss:0.07628\n",
      "[24]\tvalidation_0-logloss:0.07702\n",
      "[25]\tvalidation_0-logloss:0.07729\n",
      "[26]\tvalidation_0-logloss:0.07725\n",
      "[27]\tvalidation_0-logloss:0.07758\n",
      "[28]\tvalidation_0-logloss:0.07737\n",
      "[29]\tvalidation_0-logloss:0.07761\n",
      "[30]\tvalidation_0-logloss:0.07807\n",
      "[31]\tvalidation_0-logloss:0.07803\n",
      "[32]\tvalidation_0-logloss:0.07784\n",
      "[33]\tvalidation_0-logloss:0.07818\n",
      "[34]\tvalidation_0-logloss:0.07825\n",
      "[35]\tvalidation_0-logloss:0.07796\n",
      "[36]\tvalidation_0-logloss:0.07859\n",
      "[37]\tvalidation_0-logloss:0.07890\n",
      "[38]\tvalidation_0-logloss:0.07902\n",
      "[39]\tvalidation_0-logloss:0.07944\n",
      "[40]\tvalidation_0-logloss:0.07964\n",
      "[41]\tvalidation_0-logloss:0.07970\n",
      "[42]\tvalidation_0-logloss:0.07918\n",
      "[43]\tvalidation_0-logloss:0.08025\n",
      "[44]\tvalidation_0-logloss:0.08030\n",
      "[45]\tvalidation_0-logloss:0.08091\n",
      "[46]\tvalidation_0-logloss:0.08124\n",
      "[47]\tvalidation_0-logloss:0.08163\n",
      "[48]\tvalidation_0-logloss:0.08133\n",
      "[49]\tvalidation_0-logloss:0.08147\n",
      "[50]\tvalidation_0-logloss:0.08189\n",
      "[51]\tvalidation_0-logloss:0.08140\n",
      "[52]\tvalidation_0-logloss:0.08164\n",
      "[53]\tvalidation_0-logloss:0.08086\n",
      "[54]\tvalidation_0-logloss:0.08084\n",
      "[55]\tvalidation_0-logloss:0.08089\n",
      "[56]\tvalidation_0-logloss:0.08129\n",
      "[57]\tvalidation_0-logloss:0.08138\n",
      "[58]\tvalidation_0-logloss:0.08163\n",
      "[59]\tvalidation_0-logloss:0.08150\n",
      "[60]\tvalidation_0-logloss:0.08148\n",
      "[61]\tvalidation_0-logloss:0.08162\n",
      "[62]\tvalidation_0-logloss:0.08131\n",
      "[63]\tvalidation_0-logloss:0.08127\n",
      "[64]\tvalidation_0-logloss:0.08133\n",
      "[65]\tvalidation_0-logloss:0.08132\n",
      "[66]\tvalidation_0-logloss:0.08135\n",
      "[67]\tvalidation_0-logloss:0.08140\n",
      "[68]\tvalidation_0-logloss:0.08178\n",
      "[69]\tvalidation_0-logloss:0.08140\n",
      "[70]\tvalidation_0-logloss:0.08160\n",
      "[71]\tvalidation_0-logloss:0.08125\n",
      "[72]\tvalidation_0-logloss:0.08108\n",
      "[73]\tvalidation_0-logloss:0.08117\n",
      "[74]\tvalidation_0-logloss:0.08113\n",
      "[75]\tvalidation_0-logloss:0.08128\n",
      "[76]\tvalidation_0-logloss:0.08135\n",
      "[77]\tvalidation_0-logloss:0.08131\n",
      "[78]\tvalidation_0-logloss:0.08140\n",
      "[79]\tvalidation_0-logloss:0.08151\n",
      "[80]\tvalidation_0-logloss:0.08142\n",
      "[81]\tvalidation_0-logloss:0.08139\n",
      "[82]\tvalidation_0-logloss:0.08163\n",
      "[83]\tvalidation_0-logloss:0.08166\n",
      "[84]\tvalidation_0-logloss:0.08140\n",
      "[85]\tvalidation_0-logloss:0.08133\n",
      "[86]\tvalidation_0-logloss:0.08135\n",
      "[87]\tvalidation_0-logloss:0.08127\n",
      "[88]\tvalidation_0-logloss:0.08140\n",
      "[89]\tvalidation_0-logloss:0.08153\n",
      "[90]\tvalidation_0-logloss:0.08145\n",
      "[91]\tvalidation_0-logloss:0.08150\n",
      "[92]\tvalidation_0-logloss:0.08138\n",
      "[93]\tvalidation_0-logloss:0.08132\n",
      "[94]\tvalidation_0-logloss:0.08116\n",
      "[95]\tvalidation_0-logloss:0.08120\n",
      "[96]\tvalidation_0-logloss:0.08118\n",
      "[97]\tvalidation_0-logloss:0.08119\n",
      "[98]\tvalidation_0-logloss:0.08140\n",
      "[99]\tvalidation_0-logloss:0.08154\n",
      "Classification Report:\n",
      "              precision    recall  f1-score   support\n",
      "\n",
      "           0       0.99      0.96      0.98       415\n",
      "           1       0.96      0.99      0.98       385\n",
      "\n",
      "    accuracy                           0.98       800\n",
      "   macro avg       0.98      0.98      0.98       800\n",
      "weighted avg       0.98      0.98      0.98       800\n",
      "\n",
      "Accuracy: 0.9762\n",
      "Confusion Matrix:\n",
      "[[399  16]\n",
      " [  3 382]]\n"
     ]
    }
   ],
   "source": [
    "import xgboost as xgb\n",
    "import numpy as np\n",
    "from sklearn.model_selection import train_test_split\n",
    "from sklearn.metrics import classification_report, accuracy_score, confusion_matrix\n",
    "\n",
    "\n",
    "# Convert to numpy for XGBoost\n",
    "X = np.array(feature_matrix)\n",
    "y = np.array(labels)\n",
    "\n",
    "X_train, X_test, y_train, y_test = train_test_split(X, y, test_size=0.2, random_state=42)\n",
    "\n",
    "# Train an XGBoost classifier\n",
    "model = xgb.XGBClassifier(use_label_encoder=False, eval_metric='logloss', random_state=42)\n",
    "# If classes are imbalanced, set scale_pos_weight or use class_weight to give more weight to matches.\n",
    "imbalance_ratio = sum(y==0) / sum(y==1)\n",
    "model.set_params(scale_pos_weight=imbalance_ratio)\n",
    "model.fit(X_train, y_train, eval_set=[(X_test, y_test)])\n",
    "\n",
    "# Predict on test set\n",
    "y_pred = model.predict(X_test)\n",
    "\n",
    "# Metrics calculation\n",
    "print(\"Classification Report:\")\n",
    "print(classification_report(y_test, y_pred))\n",
    "\n",
    "accuracy = accuracy_score(y_test, y_pred)\n",
    "print(f\"Accuracy: {accuracy:.4f}\")\n",
    "\n",
    "print(\"Confusion Matrix:\")\n",
    "print(confusion_matrix(y_test, y_pred))"
   ]
  },
  {
   "cell_type": "code",
   "execution_count": 73,
   "id": "de02cd3a-5c01-45ab-bd86-cab9a7b4c673",
   "metadata": {},
   "outputs": [
    {
     "name": "stdout",
     "output_type": "stream",
     "text": [
      "Feature importances: [0.2773674  0.00653246 0.02009208 ... 0.         0.         0.        ]\n"
     ]
    }
   ],
   "source": [
    "print(\"Feature importances:\", model.feature_importances_)"
   ]
  },
  {
   "cell_type": "code",
   "execution_count": 74,
   "id": "37496291-9dca-45bd-b1f2-60b6077bd63a",
   "metadata": {},
   "outputs": [],
   "source": [
    "import re\n",
    "from sklearn.metrics.pairwise import cosine_similarity\n",
    "from sklearn.feature_extraction.text import TfidfVectorizer\n",
    "\n",
    "all_names = []\n",
    "for s, r, l in total_data:\n",
    "    all_names.extend([s,r])\n",
    "\n",
    "vectorizer = TfidfVectorizer(stop_words='english').fit(all_names)\n",
    "\n",
    "def normalize_room_name(name: str) -> str:\n",
    "    name = name.lower()                           # lowercasing\n",
    "    name = re.sub(r'[^a-z0-9\\s]', '', name)       # remove punctuation/special chars\n",
    "    name = re.sub(r'\\s+', ' ', name).strip()      # collapse multiple spaces\n",
    "    return name"
   ]
  },
  {
   "cell_type": "code",
   "execution_count": 88,
   "id": "d264f05e-37db-47e8-8712-10f6ea3716a6",
   "metadata": {},
   "outputs": [
    {
     "name": "stdout",
     "output_type": "stream",
     "text": [
      "Classic Room - Olympic Queen Bed - ROOM ONLY → **MATCH** with \"Classic Room\" (score=1.00)\n",
      "CLASSIC ROOM ADA - ROOM ONLY → **MATCH** with \"Classic Room\" (score=0.99)\n",
      "SUPERIOR ROOM ADA - ROOM ONLY → **MATCH** with \"Superior Room\" (score=0.76)\n",
      "Superior Room - Olympic Queen Bed - ROOM ONLY → **MATCH** with \"Superior Room\" (score=1.00)\n",
      "Superior City View - Olympic Queen Bed - ROOM ONLY → **MATCH** with \"Superior Room with City View\" (score=0.33)\n",
      "Balcony Room - Olympic Queen Bed - ROOM ONLY → **MATCH** with \"Balcony Room\" (score=1.00)\n"
     ]
    }
   ],
   "source": [
    "\n",
    "\n",
    "hotel3_supplier = [\"Classic Room - Olympic Queen Bed - ROOM ONLY\",\"CLASSIC ROOM ADA - ROOM ONLY\",\"SUPERIOR ROOM ADA - ROOM ONLY\",\"Superior Room - Olympic Queen Bed - ROOM ONLY\",\"Superior City View - Olympic Queen Bed - ROOM ONLY\",\"Balcony Room - Olympic Queen Bed - ROOM ONLY\"]\n",
    "hotel3_reference = [\"Classic Room\",\"Superior Room\",\"Superior Room with City View\",\"Balcony Room\",\"Classic Room - Disability Access\",\"Superior Room - Disability Access\",\"Junior Suite - Disability Access\"]\n",
    "\n",
    "\n",
    "\n",
    "\n",
    "\n",
    "for sup_name in hotel3_supplier:\n",
    "    best_match = None\n",
    "    best_score = 0.0\n",
    "    for ref_name in hotel3_reference:\n",
    "        embedding_sup = smodel.encode(sup_name)\n",
    "        embedding_ref = smodel.encode(ref_name)\n",
    "        abs_diff = np.abs(embedding_sup - embedding_ref)\n",
    "        mult_embedding = embedding_sup * embedding_ref\n",
    "        pair_embedding = np.concatenate([embedding_sup, embedding_ref, mult_embedding])\n",
    "\n",
    "        # print(pair_embedding.shape)\n",
    "        # Predict probability of match\n",
    "\n",
    "        cos_sim = cosine_similarity(vectorizer.transform([sup_name]), vectorizer.transform([ref_name]))[0,0]\n",
    "        jac = token_jaccard(sup_name, ref_name)\n",
    "        substr = 1 if is_substring(sup_name, ref_name) else 0\n",
    "        seq_ratio = SequenceMatcher(None, sup_name.lower(), ref_name.lower()).ratio()\n",
    "    \n",
    "        numeric_features = np.array([cos_sim, jac, substr, seq_ratio])\n",
    "        \n",
    "        pair_embedding = np.concatenate([numeric_features, pair_embedding])\n",
    "\n",
    "        # print(pair_embedding.shape)\n",
    "        pair_embedding_scaled = scaler.transform(pair_embedding.reshape(1,-1))\n",
    "        # pair_embedding_selected = selector.transform(pair_embedding_scaled).reshape(1, 1000)\n",
    "\n",
    "        pair_embedding = np.array(pair_embedding_scaled)\n",
    "        match_prob = model.predict_proba(pair_embedding)[0,1]\n",
    "        if match_prob > best_score:\n",
    "            best_score = match_prob\n",
    "            best_match = ref_name\n",
    "    # Decide if above threshold\n",
    "    if best_score >= 0.1:  # using 0.5 for this example threshold\n",
    "        print(f\"{sup_name} → **MATCH** with \\\"{best_match}\\\" (score={best_score:.2f})\")\n",
    "    else:\n",
    "        print(f\"{sup_name} → **NO MATCH** (outlier) (score={best_score:.2f})\")"
   ]
  },
  {
   "cell_type": "code",
   "execution_count": 89,
   "id": "e2e87ba7-f3f4-4719-b6ad-67e560dbb459",
   "metadata": {},
   "outputs": [
    {
     "data": {
      "text/plain": [
       "['Classic Room - Olympic Queen Bed - ROOM ONLY',\n",
       " 'CLASSIC ROOM ADA - ROOM ONLY',\n",
       " 'SUPERIOR ROOM ADA - ROOM ONLY',\n",
       " 'Superior Room - Olympic Queen Bed - ROOM ONLY',\n",
       " 'Superior City View - Olympic Queen Bed - ROOM ONLY',\n",
       " 'Balcony Room - Olympic Queen Bed - ROOM ONLY']"
      ]
     },
     "execution_count": 89,
     "metadata": {},
     "output_type": "execute_result"
    }
   ],
   "source": [
    "hotel3_supplier"
   ]
  },
  {
   "cell_type": "code",
   "execution_count": 90,
   "id": "777c38d3-2b08-407b-bcec-44ae87374c37",
   "metadata": {},
   "outputs": [
    {
     "data": {
      "text/plain": [
       "['Classic Room',\n",
       " 'Superior Room',\n",
       " 'Superior Room with City View',\n",
       " 'Balcony Room',\n",
       " 'Classic Room - Disability Access',\n",
       " 'Superior Room - Disability Access',\n",
       " 'Junior Suite - Disability Access']"
      ]
     },
     "execution_count": 90,
     "metadata": {},
     "output_type": "execute_result"
    }
   ],
   "source": [
    "hotel3_reference"
   ]
  },
  {
   "cell_type": "code",
   "execution_count": null,
   "id": "9dae717a-c710-4afc-adfd-632fc766d08a",
   "metadata": {},
   "outputs": [],
   "source": []
  }
 ],
 "metadata": {
  "kernelspec": {
   "display_name": "Python 3 (ipykernel)",
   "language": "python",
   "name": "python3"
  },
  "language_info": {
   "codemirror_mode": {
    "name": "ipython",
    "version": 3
   },
   "file_extension": ".py",
   "mimetype": "text/x-python",
   "name": "python",
   "nbconvert_exporter": "python",
   "pygments_lexer": "ipython3",
   "version": "3.12.7"
  }
 },
 "nbformat": 4,
 "nbformat_minor": 5
}
