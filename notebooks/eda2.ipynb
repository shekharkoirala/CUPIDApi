{
 "cells": [
  {
   "cell_type": "markdown",
   "id": "219153a3-4648-49b5-9672-c68fca1e4ec1",
   "metadata": {},
   "source": [
    "## Group the dataframe based on the hotel_id and lp_id, ( both of it) and Merge it and Export at the END"
   ]
  },
  {
   "cell_type": "markdown",
   "id": "ab196a72-da6f-4b40-9c5a-efc21f3b9042",
   "metadata": {},
   "source": [
    "# hotel_id"
   ]
  },
  {
   "cell_type": "code",
   "execution_count": 1,
   "id": "5b554351-fece-447f-b063-cd03085e63f1",
   "metadata": {},
   "outputs": [
    {
     "name": "stdout",
     "output_type": "stream",
     "text": [
      "rooms_csv : ['core_room_id', 'core_hotel_id', 'lp_id', 'supplier_room_id', 'supplier_name', 'supplier_room_name']\n",
      "reference_csv : ['hotel_id', 'lp_id', 'room_id', 'room_name']\n"
     ]
    }
   ],
   "source": [
    "import polars as pl\n",
    "import datetime as dt\n",
    "\n",
    "import os\n",
    "import sys\n",
    "\n",
    "new_path = \"/\".join(os.getcwd().split(\"/\")[:-1])\n",
    "sys.path.append(new_path)\n",
    "\n",
    "\n",
    "rooms_csv = pl.read_csv(f\"{new_path}/data/updated_core_rooms.csv\", try_parse_dates=True)\n",
    "reference_csv = pl.read_csv(f\"{new_path}/data/referance_rooms-1737378184366.csv\", try_parse_dates=True)\n",
    "print(f\"rooms_csv : {rooms_csv.columns}\")\n",
    "print(f\"reference_csv : {reference_csv.columns}\")"
   ]
  },
  {
   "cell_type": "code",
   "execution_count": 29,
   "id": "922024b7-6811-48f2-b4f3-4679a779620c",
   "metadata": {},
   "outputs": [
    {
     "data": {
      "text/html": [
       "<div><style>\n",
       ".dataframe > thead > tr,\n",
       ".dataframe > tbody > tr {\n",
       "  text-align: right;\n",
       "  white-space: pre-wrap;\n",
       "}\n",
       "</style>\n",
       "<small>shape: (5, 2)</small><table border=\"1\" class=\"dataframe\"><thead><tr><th>hotel_id</th><th>data</th></tr><tr><td>i64</td><td>list[struct[3]]</td></tr></thead><tbody><tr><td>10161342</td><td>[{&quot;lp918f6&quot;,1016134202,&quot;Holiday Home&quot;}]</td></tr><tr><td>13596955</td><td>[{&quot;lp1b8b94&quot;,1142577252,&quot;Economy Cabin&quot;}, {&quot;lp1b8b94&quot;,1142577260,&quot;Family Cabin&quot;}]</td></tr><tr><td>10097744</td><td>[{&quot;lp655a5479&quot;,1009774402,&quot;Holiday Home&quot;}]</td></tr><tr><td>1383045</td><td>[{&quot;lp6569f874&quot;,138304501,&quot;Apartment with Garden View&quot;}]</td></tr><tr><td>9775581</td><td>[{&quot;lp6567831f&quot;,977558101,&quot;Budget Double Room&quot;}, {&quot;lp6567831f&quot;,977558102,&quot;Budget Double Room&quot;}, {&quot;lp6567831f&quot;,977558103,&quot;Budget Double Room&quot;}]</td></tr></tbody></table></div>"
      ],
      "text/plain": [
       "shape: (5, 2)\n",
       "┌──────────┬─────────────────────────────────┐\n",
       "│ hotel_id ┆ data                            │\n",
       "│ ---      ┆ ---                             │\n",
       "│ i64      ┆ list[struct[3]]                 │\n",
       "╞══════════╪═════════════════════════════════╡\n",
       "│ 10161342 ┆ [{\"lp918f6\",1016134202,\"Holida… │\n",
       "│ 13596955 ┆ [{\"lp1b8b94\",1142577252,\"Econo… │\n",
       "│ 10097744 ┆ [{\"lp655a5479\",1009774402,\"Hol… │\n",
       "│ 1383045  ┆ [{\"lp6569f874\",138304501,\"Apar… │\n",
       "│ 9775581  ┆ [{\"lp6567831f\",977558101,\"Budg… │\n",
       "└──────────┴─────────────────────────────────┘"
      ]
     },
     "execution_count": 29,
     "metadata": {},
     "output_type": "execute_result"
    }
   ],
   "source": [
    "\n",
    "reference_csv_struct = reference_csv.with_columns([\n",
    "    pl.struct([\"lp_id\", \"room_id\", \"room_name\"]).alias(\"data\")\n",
    "])\n",
    "\n",
    "reference_csv_grouped = reference_csv_struct.group_by(\"hotel_id\").agg(pl.col(\"data\"))\n",
    "\n",
    "reference_csv_grouped.head()"
   ]
  },
  {
   "cell_type": "code",
   "execution_count": 31,
   "id": "5f47aaac-9864-49db-9fa7-e295fda821c3",
   "metadata": {},
   "outputs": [
    {
     "data": {
      "text/html": [
       "<div><style>\n",
       ".dataframe > thead > tr,\n",
       ".dataframe > tbody > tr {\n",
       "  text-align: right;\n",
       "  white-space: pre-wrap;\n",
       "}\n",
       "</style>\n",
       "<small>shape: (5, 2)</small><table border=\"1\" class=\"dataframe\"><thead><tr><th>core_hotel_id</th><th>data</th></tr><tr><td>i64</td><td>list[struct[4]]</td></tr></thead><tbody><tr><td>1701604558</td><td>[{2570391,&quot;lp656c6cce&quot;,322644591,&quot;House, 5 Bedrooms&quot;}]</td></tr><tr><td>632858</td><td>[{45781,&quot;lp9a81a&quot;,201711726,&quot;Condo, 2 Bedrooms&quot;}]</td></tr><tr><td>1700228477</td><td>[{1220173,&quot;lp65576d7d&quot;,315661656,&quot;Basic Room&quot;}]</td></tr><tr><td>1700299006</td><td>[{1421968,&quot;lp655880fe&quot;,320936204,&quot;Apartment (Volpe)&quot;}]</td></tr><tr><td>632471</td><td>[{1422552,&quot;lp9a697&quot;,201711648,&quot;Apartment, 4 Bedrooms&quot;}]</td></tr></tbody></table></div>"
      ],
      "text/plain": [
       "shape: (5, 2)\n",
       "┌───────────────┬─────────────────────────────────┐\n",
       "│ core_hotel_id ┆ data                            │\n",
       "│ ---           ┆ ---                             │\n",
       "│ i64           ┆ list[struct[4]]                 │\n",
       "╞═══════════════╪═════════════════════════════════╡\n",
       "│ 1701604558    ┆ [{2570391,\"lp656c6cce\",3226445… │\n",
       "│ 632858        ┆ [{45781,\"lp9a81a\",201711726,\"C… │\n",
       "│ 1700228477    ┆ [{1220173,\"lp65576d7d\",3156616… │\n",
       "│ 1700299006    ┆ [{1421968,\"lp655880fe\",3209362… │\n",
       "│ 632471        ┆ [{1422552,\"lp9a697\",201711648,… │\n",
       "└───────────────┴─────────────────────────────────┘"
      ]
     },
     "execution_count": 31,
     "metadata": {},
     "output_type": "execute_result"
    }
   ],
   "source": [
    "\n",
    "rooms_csv_struct = rooms_csv.with_columns([\n",
    "    pl.struct(['core_room_id', 'lp_id', 'supplier_room_id', 'supplier_room_name']).alias(\"data\")\n",
    "])\n",
    "\n",
    "rooms_csv_grouped = rooms_csv_struct.group_by(\"core_hotel_id\").agg(pl.col(\"data\"))\n",
    "\n",
    "rooms_csv_grouped.head()"
   ]
  },
  {
   "cell_type": "code",
   "execution_count": 32,
   "id": "722056cf-009f-46f8-ac7c-683452b8f133",
   "metadata": {},
   "outputs": [
    {
     "data": {
      "text/plain": [
       "(813834, 40011)"
      ]
     },
     "execution_count": 32,
     "metadata": {},
     "output_type": "execute_result"
    }
   ],
   "source": [
    "len(rooms_csv_grouped), len(reference_csv_grouped)"
   ]
  },
  {
   "cell_type": "code",
   "execution_count": 33,
   "id": "e14fcaba-ec13-4e4d-ba57-92a9a843ff3a",
   "metadata": {},
   "outputs": [
    {
     "data": {
      "text/html": [
       "<div><style>\n",
       ".dataframe > thead > tr,\n",
       ".dataframe > tbody > tr {\n",
       "  text-align: right;\n",
       "  white-space: pre-wrap;\n",
       "}\n",
       "</style>\n",
       "<small>shape: (852, 3)</small><table border=\"1\" class=\"dataframe\"><thead><tr><th>hotel_id</th><th>data</th><th>data_right</th></tr><tr><td>i64</td><td>list[struct[3]]</td><td>list[struct[4]]</td></tr></thead><tbody><tr><td>493688</td><td>[{&quot;lp655fc660&quot;,49368801,&quot;Super Deluxe Double Room&quot;}, {&quot;lp655fc660&quot;,49368803,&quot;Deluxe Double Room&quot;}, … {&quot;lp655fc660&quot;,49368805,&quot;Quadruple Room with Fan and Private External Bathroom&quot;}]</td><td>[{2840042,&quot;lp78878&quot;,314319324,&quot;Penthouse&quot;}, {2840050,&quot;lp78878&quot;,314319269,&quot;Solo room&quot;}, … {2841415,&quot;lp78878&quot;,314319275,&quot;Classic room&quot;}]</td></tr><tr><td>1022558</td><td>[{&quot;lpe0156&quot;,102255801,&quot;Two-Bedroom Holiday Home&quot;}]</td><td>[{825765,&quot;lpf9a5e&quot;,218128589,&quot;Deluxe Double or Twin Room, 1 King Bed&quot;}]</td></tr><tr><td>358635</td><td>[{&quot;lp655a7d4a&quot;,1143148244,&quot;Superior Double Room with Balcony&quot;}, {&quot;lp655a7d4a&quot;,1143148245,&quot;Large Double Room&quot;}, … {&quot;lp655a7d4a&quot;,1143148251,&quot;Budget Double Room&quot;}]</td><td>[{399836,&quot;lp578eb&quot;,200295638,&quot;Apartment 3 Bedrooms Suite&quot;}, {407269,&quot;lp578eb&quot;,200760470,&quot;Apartment 2 Bedrooms Suite&quot;}, … {2679523,&quot;lp578eb&quot;,200248359,&quot;Executive Suite Room&quot;}]</td></tr><tr><td>343311</td><td>[{&quot;lp6e412&quot;,34331101,&quot;Four-Bedroom Villa with Private Pool&quot;}, {&quot;lp6e412&quot;,34331102,&quot;One-Bedroom Villa&quot;}, … {&quot;lp6e412&quot;,34331107,&quot;Two-Bedroom Villa&quot;}]</td><td>[{1068076,&quot;lp53d0f&quot;,215448941,&quot;Japanese Room 6 tatami City View&quot;}, {1076408,&quot;lp53d0f&quot;,215448943,&quot;Japanese Room 8 tatami River View&quot;}]</td></tr><tr><td>1678380</td><td>[{&quot;lp655ab43c&quot;,167838001,&quot;Twin Room with Garden View&quot;}, {&quot;lp655ab43c&quot;,167838002,&quot;Deluxe Double Room with Shower&quot;}]</td><td>[{899999,&quot;lp199c2c&quot;,218431622,&quot;Studio, Non Smoking&quot;}]</td></tr><tr><td>&hellip;</td><td>&hellip;</td><td>&hellip;</td></tr><tr><td>502262</td><td>[{&quot;lp655a174f&quot;,50226201,&quot;Double or Twin Room&quot;}]</td><td>[{932273,&quot;lp7a9f6&quot;,200950739,&quot;Twin Room&quot;}, {938925,&quot;lp7a9f6&quot;,200950736,&quot;Double Room&quot;}, {945236,&quot;lp7a9f6&quot;,200950737,&quot;Family Room (Large)&quot;}]</td></tr><tr><td>652481</td><td>[{&quot;lp65669a08&quot;,65248104,&quot;Two-Bedroom Apartment&quot;}]</td><td>[{1570960,&quot;lp9f4c1&quot;,201790985,&quot;Double Room, Balcony, Lake View&quot;}, {1576587,&quot;lp9f4c1&quot;,201790995,&quot;Romantic Bungalow, 1 Bedroom&quot;}, … {1586592,&quot;lp9f4c1&quot;,201790997,&quot;Luxury Bungalow, 1 Bedroom, Garden Area&quot;}]</td></tr><tr><td>1044441</td><td>[{&quot;lp65679d74&quot;,104444114,&quot;Deluxe Room&quot;}, {&quot;lp65679d74&quot;,104444115,&quot;Superior Room&quot;}, … {&quot;lp65679d74&quot;,104444117,&quot;Presidential Suite&quot;}]</td><td>[{1280030,&quot;lpfefd9&quot;,215420594,&quot;Tent (Sultana)&quot;}, {1284911,&quot;lpfefd9&quot;,215420595,&quot;Deluxe Tent (Titrite)&quot;}, … {1295656,&quot;lpfefd9&quot;,215420588,&quot;Tent (Itri)&quot;}]</td></tr><tr><td>2288619</td><td>[{&quot;lp656aee06&quot;,228861902,&quot;Apartment with Terrace 501&quot;}, {&quot;lp656aee06&quot;,228861903,&quot;Apartment - Ground Floor 532&quot;}, … {&quot;lp656aee06&quot;,228861923,&quot;Apartment&quot;}]</td><td>[{1248214,&quot;lp22ebeb&quot;,215233389,&quot;Special Japanese Style Room (For 2-4 guests)&quot;}, {1254808,&quot;lp22ebeb&quot;,215233390,&quot;Family Japanese Style Room (For 4-5 guests)&quot;}, {1257795,&quot;lp22ebeb&quot;,215233391,&quot;Shared Dormitory, Mixed Dorm&quot;}]</td></tr><tr><td>491532</td><td>[{&quot;lp656aee1f&quot;,49153201,&quot;Standard Double or Twin Room&quot;}, {&quot;lp656aee1f&quot;,49153202,&quot;Club Room&quot;}]</td><td>[{1914746,&quot;lp7800c&quot;,200891344,&quot;Standard Double Room, Balcony&quot;}]</td></tr></tbody></table></div>"
      ],
      "text/plain": [
       "shape: (852, 3)\n",
       "┌──────────┬─────────────────────────────────┬─────────────────────────────────┐\n",
       "│ hotel_id ┆ data                            ┆ data_right                      │\n",
       "│ ---      ┆ ---                             ┆ ---                             │\n",
       "│ i64      ┆ list[struct[3]]                 ┆ list[struct[4]]                 │\n",
       "╞══════════╪═════════════════════════════════╪═════════════════════════════════╡\n",
       "│ 493688   ┆ [{\"lp655fc660\",49368801,\"Super… ┆ [{2840042,\"lp78878\",314319324,… │\n",
       "│ 1022558  ┆ [{\"lpe0156\",102255801,\"Two-Bed… ┆ [{825765,\"lpf9a5e\",218128589,\"… │\n",
       "│ 358635   ┆ [{\"lp655a7d4a\",1143148244,\"Sup… ┆ [{399836,\"lp578eb\",200295638,\"… │\n",
       "│ 343311   ┆ [{\"lp6e412\",34331101,\"Four-Bed… ┆ [{1068076,\"lp53d0f\",215448941,… │\n",
       "│ 1678380  ┆ [{\"lp655ab43c\",167838001,\"Twin… ┆ [{899999,\"lp199c2c\",218431622,… │\n",
       "│ …        ┆ …                               ┆ …                               │\n",
       "│ 502262   ┆ [{\"lp655a174f\",50226201,\"Doubl… ┆ [{932273,\"lp7a9f6\",200950739,\"… │\n",
       "│ 652481   ┆ [{\"lp65669a08\",65248104,\"Two-B… ┆ [{1570960,\"lp9f4c1\",201790985,… │\n",
       "│ 1044441  ┆ [{\"lp65679d74\",104444114,\"Delu… ┆ [{1280030,\"lpfefd9\",215420594,… │\n",
       "│ 2288619  ┆ [{\"lp656aee06\",228861902,\"Apar… ┆ [{1248214,\"lp22ebeb\",215233389… │\n",
       "│ 491532   ┆ [{\"lp656aee1f\",49153201,\"Stand… ┆ [{1914746,\"lp7800c\",200891344,… │\n",
       "└──────────┴─────────────────────────────────┴─────────────────────────────────┘"
      ]
     },
     "execution_count": 33,
     "metadata": {},
     "output_type": "execute_result"
    }
   ],
   "source": [
    "merged_df = reference_csv_grouped.join(rooms_csv_grouped, left_on=\"hotel_id\", right_on=\"core_hotel_id\", how=\"inner\")\n",
    "merged_df\n",
    "\n"
   ]
  },
  {
   "cell_type": "code",
   "execution_count": 40,
   "id": "26dc0a55-d14e-41e2-87ca-9bb2be277648",
   "metadata": {},
   "outputs": [
    {
     "name": "stdout",
     "output_type": "stream",
     "text": [
      "reference\n",
      "{'lp_id': 'lp655a7d4a', 'room_id': 1143148244, 'room_name': 'Superior Double Room with Balcony'}\n",
      "{'lp_id': 'lp655a7d4a', 'room_id': 1143148245, 'room_name': 'Large Double Room'}\n",
      "{'lp_id': 'lp655a7d4a', 'room_id': 1143148246, 'room_name': 'Standard Double Room with Balcony'}\n",
      "{'lp_id': 'lp655a7d4a', 'room_id': 1143148247, 'room_name': 'Comfort Single Room'}\n",
      "{'lp_id': 'lp655a7d4a', 'room_id': 1143148248, 'room_name': 'Deluxe Double Room with Balcony'}\n",
      "{'lp_id': 'lp655a7d4a', 'room_id': 1143148249, 'room_name': 'Family Two-Bedroom Suite'}\n",
      "{'lp_id': 'lp655a7d4a', 'room_id': 1143148250, 'room_name': 'Superior Deluxe Double Room '}\n",
      "{'lp_id': 'lp655a7d4a', 'room_id': 1143148251, 'room_name': 'Budget Double Room'}\n",
      "rooms\n",
      "{'core_room_id': 399836, 'lp_id': 'lp578eb', 'supplier_room_id': 200295638, 'supplier_room_name': 'Apartment 3 Bedrooms Suite'}\n",
      "{'core_room_id': 407269, 'lp_id': 'lp578eb', 'supplier_room_id': 200760470, 'supplier_room_name': 'Apartment 2 Bedrooms Suite'}\n",
      "{'core_room_id': 413731, 'lp_id': 'lp578eb', 'supplier_room_id': 200295632, 'supplier_room_name': 'Superior Room, Executive Level'}\n",
      "{'core_room_id': 417267, 'lp_id': 'lp578eb', 'supplier_room_id': 200295643, 'supplier_room_name': 'Deluxe Double Room, Executive Level'}\n",
      "{'core_room_id': 419728, 'lp_id': 'lp578eb', 'supplier_room_id': 200248358, 'supplier_room_name': 'Deluxe Double Room'}\n",
      "{'core_room_id': 421650, 'lp_id': 'lp578eb', 'supplier_room_id': 200248356, 'supplier_room_name': 'Superior Room'}\n",
      "{'core_room_id': 422415, 'lp_id': 'lp578eb', 'supplier_room_id': 200760462, 'supplier_room_name': 'Deluxe Twin Room'}\n",
      "{'core_room_id': 422913, 'lp_id': 'lp578eb', 'supplier_room_id': 200760468, 'supplier_room_name': 'Deluxe Twin Room, Executive Level'}\n",
      "{'core_room_id': 2679523, 'lp_id': 'lp578eb', 'supplier_room_id': 200248359, 'supplier_room_name': 'Executive Suite Room'}\n"
     ]
    }
   ],
   "source": [
    "for row in merged_df.filter(pl.col(\"hotel_id\") == 358635).iter_rows(named=True):\n",
    "    print(\"reference\")\n",
    "    for i in row[\"data\"]:\n",
    "        print(i)\n",
    "    print(\"rooms\")\n",
    "    for i in row[\"data_right\"]:\n",
    "        print(i)\n",
    "    "
   ]
  },
  {
   "cell_type": "markdown",
   "id": "d5e5d24a-3714-4e2e-8c6b-79efbc8df048",
   "metadata": {},
   "source": [
    "# lp_id"
   ]
  },
  {
   "cell_type": "code",
   "execution_count": 2,
   "id": "4ec08df3-f7d2-4067-b48e-7f34dc1b78b1",
   "metadata": {},
   "outputs": [
    {
     "data": {
      "text/html": [
       "<div><style>\n",
       ".dataframe > thead > tr,\n",
       ".dataframe > tbody > tr {\n",
       "  text-align: right;\n",
       "  white-space: pre-wrap;\n",
       "}\n",
       "</style>\n",
       "<small>shape: (5, 2)</small><table border=\"1\" class=\"dataframe\"><thead><tr><th>lp_id</th><th>data</th></tr><tr><td>str</td><td>list[struct[3]]</td></tr></thead><tbody><tr><td>&quot;lp993e9&quot;</td><td>[{13947201,1143640765,&quot;Standard Room&quot;}, {13947201,1143640808,&quot;Executive Penthouse&quot;}, … {13947201,1143640906,&quot;Executive Room&quot;}]</td></tr><tr><td>&quot;lpc355a&quot;</td><td>[{13815241,1143383965,&quot;Condo, Multiple Beds, Lake View (Lakeside 1495)&quot;}]</td></tr><tr><td>&quot;lp96db5&quot;</td><td>[{9637251,963725102,&quot;Holiday Home&quot;}]</td></tr><tr><td>&quot;lp656c5854&quot;</td><td>[{13936281,1143592316,&quot;House, 3 Bedrooms&quot;}]</td></tr><tr><td>&quot;lp32223&quot;</td><td>[{1337173,133717301,&quot;One-Bedroom Apartment with Balcony&quot;}]</td></tr></tbody></table></div>"
      ],
      "text/plain": [
       "shape: (5, 2)\n",
       "┌────────────┬─────────────────────────────────┐\n",
       "│ lp_id      ┆ data                            │\n",
       "│ ---        ┆ ---                             │\n",
       "│ str        ┆ list[struct[3]]                 │\n",
       "╞════════════╪═════════════════════════════════╡\n",
       "│ lp993e9    ┆ [{13947201,1143640765,\"Standar… │\n",
       "│ lpc355a    ┆ [{13815241,1143383965,\"Condo, … │\n",
       "│ lp96db5    ┆ [{9637251,963725102,\"Holiday H… │\n",
       "│ lp656c5854 ┆ [{13936281,1143592316,\"House, … │\n",
       "│ lp32223    ┆ [{1337173,133717301,\"One-Bedro… │\n",
       "└────────────┴─────────────────────────────────┘"
      ]
     },
     "execution_count": 2,
     "metadata": {},
     "output_type": "execute_result"
    }
   ],
   "source": [
    "\n",
    "reference_csv_struct2 = reference_csv.with_columns([\n",
    "    pl.struct([\"hotel_id\", \"room_id\", \"room_name\"]).alias(\"data\")\n",
    "])\n",
    "\n",
    "reference_csv_grouped2 = reference_csv_struct2.group_by(\"lp_id\").agg(pl.col(\"data\"))\n",
    "\n",
    "reference_csv_grouped2.head()"
   ]
  },
  {
   "cell_type": "code",
   "execution_count": 3,
   "id": "8a7978e4-6f91-4398-869e-76585d268f0e",
   "metadata": {},
   "outputs": [
    {
     "data": {
      "text/html": [
       "<div><style>\n",
       ".dataframe > thead > tr,\n",
       ".dataframe > tbody > tr {\n",
       "  text-align: right;\n",
       "  white-space: pre-wrap;\n",
       "}\n",
       "</style>\n",
       "<small>shape: (5, 2)</small><table border=\"1\" class=\"dataframe\"><thead><tr><th>lp_id</th><th>data</th></tr><tr><td>str</td><td>list[struct[4]]</td></tr></thead><tbody><tr><td>&quot;lp655710b1&quot;</td><td>[{1453747,1700204721,314109329,&quot;Apartment&quot;}]</td></tr><tr><td>&quot;lp365212&quot;</td><td>[{665895,3559954,213635407,&quot;Standard Twin Room&quot;}, {671749,3559954,213638787,&quot;Superior Double Room&quot;}]</td></tr><tr><td>&quot;lp43c54&quot;</td><td>[{363542,277588,498859,&quot;Grand Room&quot;}, {371549,277588,200276819,&quot;Junior Suite&quot;}, … {386781,277588,394605,&quot;Deluxe King Room&quot;}]</td></tr><tr><td>&quot;lp6555685d&quot;</td><td>[{356534,1700096093,217285171,&quot;Apartment, 2 Bedrooms&quot;}]</td></tr><tr><td>&quot;lp65573e04&quot;</td><td>[{694082,1700216324,314450992,&quot;Apartment&quot;}]</td></tr></tbody></table></div>"
      ],
      "text/plain": [
       "shape: (5, 2)\n",
       "┌────────────┬─────────────────────────────────┐\n",
       "│ lp_id      ┆ data                            │\n",
       "│ ---        ┆ ---                             │\n",
       "│ str        ┆ list[struct[4]]                 │\n",
       "╞════════════╪═════════════════════════════════╡\n",
       "│ lp655710b1 ┆ [{1453747,1700204721,314109329… │\n",
       "│ lp365212   ┆ [{665895,3559954,213635407,\"St… │\n",
       "│ lp43c54    ┆ [{363542,277588,498859,\"Grand … │\n",
       "│ lp6555685d ┆ [{356534,1700096093,217285171,… │\n",
       "│ lp65573e04 ┆ [{694082,1700216324,314450992,… │\n",
       "└────────────┴─────────────────────────────────┘"
      ]
     },
     "execution_count": 3,
     "metadata": {},
     "output_type": "execute_result"
    }
   ],
   "source": [
    "\n",
    "rooms_csv_struct2 = rooms_csv.with_columns([\n",
    "    pl.struct(['core_room_id', 'core_hotel_id', 'supplier_room_id', 'supplier_room_name']).alias(\"data\")\n",
    "])\n",
    "\n",
    "rooms_csv_grouped2 = rooms_csv_struct2.group_by(\"lp_id\").agg(pl.col(\"data\"))\n",
    "\n",
    "rooms_csv_grouped2.head()"
   ]
  },
  {
   "cell_type": "code",
   "execution_count": 5,
   "id": "f878670b-6171-4feb-883d-e557f2b4d05a",
   "metadata": {},
   "outputs": [
    {
     "data": {
      "text/plain": [
       "(28638, 3)"
      ]
     },
     "execution_count": 5,
     "metadata": {},
     "output_type": "execute_result"
    }
   ],
   "source": [
    "merged_df2 = reference_csv_grouped2.join(rooms_csv_grouped2, on=\"lp_id\", how=\"inner\")\n",
    "merged_df2.shape\n"
   ]
  },
  {
   "cell_type": "code",
   "execution_count": 6,
   "id": "6145b1d1-2a66-432c-b270-b41755dfdd07",
   "metadata": {},
   "outputs": [
    {
     "data": {
      "text/plain": [
       "(40011, 3)"
      ]
     },
     "execution_count": 6,
     "metadata": {},
     "output_type": "execute_result"
    }
   ],
   "source": [
    "merged_df2 = reference_csv_grouped2.join(rooms_csv_grouped2, on=\"lp_id\", how=\"left\")\n",
    "merged_df2.shape"
   ]
  },
  {
   "cell_type": "code",
   "execution_count": 79,
   "id": "f1d5df3d-aaee-4c53-94e5-e1f1a82b7785",
   "metadata": {},
   "outputs": [],
   "source": [
    "count = 100 \n",
    "check_lp_ids = []\n",
    "for row in merged_df2.iter_rows(named=True):\n",
    "    if len(row[\"data\"]) > 3:\n",
    "        check_lp_ids.append(row[\"lp_id\"])\n",
    "        count -=1\n",
    "    if not count:\n",
    "        break"
   ]
  },
  {
   "cell_type": "code",
   "execution_count": 80,
   "id": "a016b86b-954b-4103-a1cc-3351dff44ae3",
   "metadata": {},
   "outputs": [
    {
     "name": "stdout",
     "output_type": "stream",
     "text": [
      "referenceCatalog: (Standardized catalog):  lp65577d96\n",
      "{'hotel_id': 13619378, 'room_id': 1142331723, 'room_name': 'Basic Family Room, Non Smoking'}\n",
      "{'hotel_id': 13619378, 'room_id': 1142331665, 'room_name': 'Deluxe Japanese Room, Non Smoking (Basement floors may be assigned)'}\n",
      "{'hotel_id': 13619378, 'room_id': 1142331653, 'room_name': 'Grand Japanese Room, Non Smoking (Basement floors may be assigned)'}\n",
      "{'hotel_id': 13619378, 'room_id': 1142331605, 'room_name': 'Japanese Concept Room, Non Smoking'}\n",
      "{'hotel_id': 13619378, 'room_id': 1142331703, 'room_name': 'Run of House, Non smoking (Bed Type not guaranteed)'}\n",
      "{'hotel_id': 13619378, 'room_id': 1142331714, 'room_name': 'Standard Family Room - Kawayuka Dining with Sukiyaki Dinner Non Smoking'}\n",
      "{'hotel_id': 13619378, 'room_id': 1142331549, 'room_name': 'Standard Family Room, Non Smoking'}\n",
      "{'hotel_id': 13619378, 'room_id': 1142331690, 'room_name': 'Standard Family room +Tea Ceremony Experience with Maiko Starts at 6pm,Non Smoking'}\n",
      "{'hotel_id': 13619378, 'room_id': 1142331741, 'room_name': 'Standard King Room, Non Smoking'}\n",
      "{'hotel_id': 13619378, 'room_id': 1142331681, 'room_name': 'Superior Family Room, Non Smoking'}\n",
      "{'hotel_id': 13619378, 'room_id': 1142331579, 'room_name': 'Superior Japanese Room, Non Smoking'}\n",
      "{'hotel_id': 13619378, 'room_id': 1142331641, 'room_name': 'Superior King Room, Non Smoking'}\n",
      "{'hotel_id': 13619378, 'room_id': 1142331572, 'room_name': '[Dog Friendly] Deluxe Japanese Room for 5 People, Non Smoking'}\n",
      "{'hotel_id': 13619378, 'room_id': 1142331627, 'room_name': '[Dog Friendly] Grand Japanese Room, Non Smoking'}\n",
      "{'hotel_id': 13619378, 'room_id': 1142331558, 'room_name': '[Dog Friendly] Superior Family Room, Non Smoking'}\n",
      "inputCatalog: (Supplier's provided catalog) lp65577d96\n",
      "{'core_room_id': 1973237, 'core_hotel_id': 1700232598, 'supplier_room_id': 316077496, 'supplier_room_name': 'Basic Family Room, Non Smoking [Dogs Not Allowed]'}\n",
      "{'core_room_id': 1944255, 'core_hotel_id': 1700232598, 'supplier_room_id': 315804435, 'supplier_room_name': 'Deluxe Japanese Room, Non Smoking [Dogs Not Allowed]'}\n",
      "{'core_room_id': 1971877, 'core_hotel_id': 1700232598, 'supplier_room_id': 315804443, 'supplier_room_name': 'Grand Japanese Room, Non Smoking [Dogs Not Allowed]'}\n",
      "{'core_room_id': 2532831, 'core_hotel_id': 1700232598, 'supplier_room_id': 322026856, 'supplier_room_name': 'Japanese Concept Room, Non Smoking [Dogs Not Allowed]'}\n",
      "{'core_room_id': 2532838, 'core_hotel_id': 1700232598, 'supplier_room_id': 321739118, 'supplier_room_name': 'Run of House, Non smoking [Dogs Not Allowed] (Bed Type not guaranteed)'}\n",
      "{'core_room_id': 1961464, 'core_hotel_id': 1700232598, 'supplier_room_id': 316077679, 'supplier_room_name': 'Standard Family Room, Non Smoking [Dogs Not Allowed]'}\n",
      "{'core_room_id': 1974467, 'core_hotel_id': 1700232598, 'supplier_room_id': 316077684, 'supplier_room_name': 'Standard King Room, Non Smoking [Dogs Not Allowed]'}\n",
      "{'core_room_id': 1953284, 'core_hotel_id': 1700232598, 'supplier_room_id': 315804370, 'supplier_room_name': 'Superior Family Room, Non Smoking [Dogs Not Allowed]'}\n",
      "{'core_room_id': 1966229, 'core_hotel_id': 1700232598, 'supplier_room_id': 315804427, 'supplier_room_name': 'Superior Japanese Room, Non Smoking [Dogs Not Allowed]'}\n",
      "{'core_room_id': 1969642, 'core_hotel_id': 1700232598, 'supplier_room_id': 315804363, 'supplier_room_name': 'Superior King Room, Non Smoking [Dogs Not Allowed]'}\n",
      "{'core_room_id': 2531756, 'core_hotel_id': 1700232598, 'supplier_room_id': 322866368, 'supplier_room_name': '[Dog Friendly] Deluxe Japanese Room for 5 People, Non Smoking'}\n",
      "{'core_room_id': 2528490, 'core_hotel_id': 1700232598, 'supplier_room_id': 322866370, 'supplier_room_name': '[Dog Friendly] Grand Japanese Room, Non Smoking'}\n",
      "{'core_room_id': 2532330, 'core_hotel_id': 1700232598, 'supplier_room_id': 322866334, 'supplier_room_name': '[Dog Friendly] Superior Family Room, Non Smoking'}\n",
      "------------------------------------------------------------------------------------------------------------------------------------------------------------\n",
      "referenceCatalog: (Standardized catalog):  lp1c7350\n",
      "{'hotel_id': 13724317, 'room_id': 1142531761, 'room_name': 'Double Room'}\n",
      "{'hotel_id': 13724317, 'room_id': 1142531795, 'room_name': 'Economy Double Room'}\n",
      "{'hotel_id': 13724317, 'room_id': 1142531741, 'room_name': 'Quadruple Room'}\n",
      "{'hotel_id': 13724317, 'room_id': 1142531722, 'room_name': 'Single Room'}\n",
      "{'hotel_id': 13724317, 'room_id': 1142531815, 'room_name': 'Superior Room'}\n",
      "inputCatalog: (Supplier's provided catalog) lp1c7350\n",
      "{'core_room_id': 1050568, 'core_hotel_id': 1864528, 'supplier_room_id': 218144713, 'supplier_room_name': 'Double Room'}\n",
      "{'core_room_id': 1056467, 'core_hotel_id': 1864528, 'supplier_room_id': 218144710, 'supplier_room_name': 'Economy Double Room'}\n",
      "{'core_room_id': 1044877, 'core_hotel_id': 1864528, 'supplier_room_id': 218144715, 'supplier_room_name': 'Quadruple Room'}\n",
      "{'core_room_id': 1036617, 'core_hotel_id': 1864528, 'supplier_room_id': 218144708, 'supplier_room_name': 'Single Room'}\n",
      "{'core_room_id': 1053308, 'core_hotel_id': 1864528, 'supplier_room_id': 218144688, 'supplier_room_name': 'Superior Room'}\n",
      "------------------------------------------------------------------------------------------------------------------------------------------------------------\n",
      "referenceCatalog: (Standardized catalog):  lp713b9\n",
      "{'hotel_id': 13540658, 'room_id': 1142519069, 'room_name': 'Deluxe Double Room'}\n",
      "{'hotel_id': 13540658, 'room_id': 1142519091, 'room_name': 'Standard Double Room'}\n",
      "{'hotel_id': 13540658, 'room_id': 1142519061, 'room_name': 'Standard Twin Room'}\n",
      "{'hotel_id': 13540658, 'room_id': 1142519079, 'room_name': 'Superior Double or Twin Room'}\n",
      "inputCatalog: (Supplier's provided catalog) lp713b9\n",
      "{'core_room_id': 1687700, 'core_hotel_id': 463801, 'supplier_room_id': 217206979, 'supplier_room_name': 'Deluxe Double Room'}\n",
      "{'core_room_id': 1696015, 'core_hotel_id': 463801, 'supplier_room_id': 200727427, 'supplier_room_name': 'Standard Double Room'}\n",
      "{'core_room_id': 1684351, 'core_hotel_id': 463801, 'supplier_room_id': 202098391, 'supplier_room_name': 'Standard Twin Room'}\n",
      "{'core_room_id': 1692046, 'core_hotel_id': 463801, 'supplier_room_id': 200727426, 'supplier_room_name': 'Superior Double or Twin Room'}\n",
      "------------------------------------------------------------------------------------------------------------------------------------------------------------\n",
      "referenceCatalog: (Standardized catalog):  lp65581b34\n",
      "{'hotel_id': 13571136, 'room_id': 1142282694, 'room_name': 'Deluxe Room'}\n",
      "{'hotel_id': 13571136, 'room_id': 1142283669, 'room_name': 'Deluxe Room'}\n",
      "{'hotel_id': 13571136, 'room_id': 1142282638, 'room_name': 'Room'}\n",
      "{'hotel_id': 13571136, 'room_id': 1142282623, 'room_name': 'Superior Room'}\n",
      "inputCatalog: (Supplier's provided catalog) lp65581b34\n",
      "{'core_room_id': 1952303, 'core_hotel_id': 1700272948, 'supplier_room_id': 318085823, 'supplier_room_name': 'Deluxe Room'}\n",
      "{'core_room_id': 1957556, 'core_hotel_id': 1700272948, 'supplier_room_id': 319446465, 'supplier_room_name': 'Deluxe Room'}\n",
      "{'core_room_id': 1943654, 'core_hotel_id': 1700272948, 'supplier_room_id': 319446583, 'supplier_room_name': 'Room'}\n",
      "{'core_room_id': 1961853, 'core_hotel_id': 1700272948, 'supplier_room_id': 318086080, 'supplier_room_name': 'Superior Room'}\n",
      "------------------------------------------------------------------------------------------------------------------------------------------------------------\n",
      "referenceCatalog: (Standardized catalog):  lp44b49\n",
      "{'hotel_id': 13567840, 'room_id': 1142278848, 'room_name': 'Double Room'}\n",
      "{'hotel_id': 13567840, 'room_id': 1142278818, 'room_name': 'Quadruple Room'}\n",
      "{'hotel_id': 13567840, 'room_id': 1142278855, 'room_name': 'Single Room'}\n",
      "{'hotel_id': 13567840, 'room_id': 1142278831, 'room_name': 'Triple Room'}\n",
      "inputCatalog: (Supplier's provided catalog) lp44b49\n",
      "{'core_room_id': 876754, 'core_hotel_id': 281417, 'supplier_room_id': 200472565, 'supplier_room_name': 'Double Room'}\n",
      "{'core_room_id': 866581, 'core_hotel_id': 281417, 'supplier_room_id': 200472567, 'supplier_room_name': 'Quadruple Room'}\n",
      "{'core_room_id': 879992, 'core_hotel_id': 281417, 'supplier_room_id': 200472564, 'supplier_room_name': 'Single Room'}\n",
      "{'core_room_id': 871631, 'core_hotel_id': 281417, 'supplier_room_id': 200472566, 'supplier_room_name': 'Triple Room'}\n",
      "------------------------------------------------------------------------------------------------------------------------------------------------------------\n",
      "referenceCatalog: (Standardized catalog):  lp74e3b\n",
      "{'hotel_id': 13586983, 'room_id': 1142846232, 'room_name': 'Deluxe Quadruple Room, Multiple Beds (E room)'}\n",
      "{'hotel_id': 13586983, 'room_id': 1142846652, 'room_name': 'Standard Double Room, 1 Double Bed (B room)'}\n",
      "{'hotel_id': 13586983, 'room_id': 1142846760, 'room_name': 'Standard Single Room (A room)'}\n",
      "{'hotel_id': 13586983, 'room_id': 1142846387, 'room_name': 'Standard Triple Room, Multiple Beds (D room)'}\n",
      "{'hotel_id': 13586983, 'room_id': 1142846103, 'room_name': 'Standard Twin Room, 2 Twin Beds (C room)'}\n",
      "{'hotel_id': 13586983, 'room_id': 1142846889, 'room_name': 'Suite (Bed type randomly assigned)'}\n",
      "inputCatalog: (Supplier's provided catalog) lp74e3b\n",
      "{'core_room_id': 1471982, 'core_hotel_id': 478779, 'supplier_room_id': 201791508, 'supplier_room_name': 'Deluxe Quadruple Room, Multiple Beds (E room)'}\n",
      "{'core_room_id': 1457617, 'core_hotel_id': 478779, 'supplier_room_id': 200815621, 'supplier_room_name': 'Standard Double Room, 1 Double Bed (B room)'}\n",
      "{'core_room_id': 1463585, 'core_hotel_id': 478779, 'supplier_room_id': 200819073, 'supplier_room_name': 'Standard Single Room (A room)'}\n",
      "{'core_room_id': 1473550, 'core_hotel_id': 478779, 'supplier_room_id': 200819077, 'supplier_room_name': 'Standard Triple Room, Multiple Beds (D room)'}\n",
      "{'core_room_id': 1469753, 'core_hotel_id': 478779, 'supplier_room_id': 200819076, 'supplier_room_name': 'Standard Twin Room, 2 Twin Beds (C room)'}\n",
      "{'core_room_id': 1466593, 'core_hotel_id': 478779, 'supplier_room_id': 201292257, 'supplier_room_name': 'Suite (Bed type randomly assigned)'}\n",
      "------------------------------------------------------------------------------------------------------------------------------------------------------------\n",
      "referenceCatalog: (Standardized catalog):  lp21b68\n",
      "{'hotel_id': 1041372, 'room_id': 104137205, 'room_name': 'Standard Apartment'}\n",
      "{'hotel_id': 1041372, 'room_id': 104137202, 'room_name': 'Studio Apartment'}\n",
      "{'hotel_id': 1041372, 'room_id': 104137203, 'room_name': 'Studio Apartment'}\n",
      "{'hotel_id': 1041372, 'room_id': 104137201, 'room_name': 'Three-Bedroom Villa'}\n",
      "{'hotel_id': 1041372, 'room_id': 104137204, 'room_name': 'Two-Bedroom Apartment'}\n",
      "inputCatalog: (Supplier's provided catalog) lp21b68\n",
      "{'core_room_id': 2414674, 'core_hotel_id': 138088, 'supplier_room_id': 37563, 'supplier_room_name': 'Room, 1 King Bed'}\n",
      "{'core_room_id': 2433400, 'core_hotel_id': 138088, 'supplier_room_id': 321419556, 'supplier_room_name': 'Room, 1 King Bed (Hearing Accessible)'}\n",
      "{'core_room_id': 2431694, 'core_hotel_id': 138088, 'supplier_room_id': 321419557, 'supplier_room_name': 'Room, 1 King Bed (Mobility Accessible, Transfer Shower)'}\n",
      "{'core_room_id': 2434649, 'core_hotel_id': 138088, 'supplier_room_id': 321419555, 'supplier_room_name': 'Room, 1 King Bed (Mobility Accessible, Tub)'}\n",
      "{'core_room_id': 2435513, 'core_hotel_id': 138088, 'supplier_room_id': 321419553, 'supplier_room_name': 'Room, 1 King Bed (Mobility/Hearing Accessible, Tub)'}\n",
      "{'core_room_id': 2423355, 'core_hotel_id': 138088, 'supplier_room_id': 319494040, 'supplier_room_name': 'Room, 1 King Bed, Balcony'}\n",
      "{'core_room_id': 2432563, 'core_hotel_id': 138088, 'supplier_room_id': 321431269, 'supplier_room_name': 'Room, 1 King Bed, Balcony (Mobility Accessible, Transfer Shower)'}\n",
      "{'core_room_id': 2434123, 'core_hotel_id': 138088, 'supplier_room_id': 321431268, 'supplier_room_name': 'Room, 1 King Bed, Balcony (Mobility Accessible, Tub)'}\n",
      "{'core_room_id': 2435040, 'core_hotel_id': 138088, 'supplier_room_id': 321431267, 'supplier_room_name': 'Room, 1 King Bed, Balcony (Mobility/Hearing Accessible, Tub)'}\n",
      "{'core_room_id': 2430291, 'core_hotel_id': 138088, 'supplier_room_id': 37566, 'supplier_room_name': 'Room, 2 Queen Beds'}\n",
      "{'core_room_id': 2426133, 'core_hotel_id': 138088, 'supplier_room_id': 321419559, 'supplier_room_name': 'Room, 2 Queen Beds (Mobility Accessible, Tub)'}\n",
      "{'core_room_id': 2428437, 'core_hotel_id': 138088, 'supplier_room_id': 321419558, 'supplier_room_name': 'Room, 2 Queen Beds (Mobility/Hearing Accessible, Tub)'}\n",
      "{'core_room_id': 2419298, 'core_hotel_id': 138088, 'supplier_room_id': 319494044, 'supplier_room_name': 'Room, 2 Queen Beds, Balcony'}\n",
      "{'core_room_id': 2435335, 'core_hotel_id': 138088, 'supplier_room_id': 321431266, 'supplier_room_name': 'Room, 2 Queen Beds, Balcony (Mobility/Hearing Accessible, Tub)'}\n",
      "{'core_room_id': 2398938, 'core_hotel_id': 138088, 'supplier_room_id': 201502338, 'supplier_room_name': 'Suite, 1 Bedroom'}\n",
      "{'core_room_id': 2406216, 'core_hotel_id': 138088, 'supplier_room_id': 201502339, 'supplier_room_name': 'Suite, 1 Bedroom'}\n",
      "{'core_room_id': 2410785, 'core_hotel_id': 138088, 'supplier_room_id': 200060015, 'supplier_room_name': 'Suite, 1 Bedroom'}\n",
      "------------------------------------------------------------------------------------------------------------------------------------------------------------\n",
      "referenceCatalog: (Standardized catalog):  lp5f263\n",
      "{'hotel_id': 1423186, 'room_id': 142318606, 'room_name': 'One-Bedroom Apartment'}\n",
      "{'hotel_id': 1423186, 'room_id': 142318605, 'room_name': 'One-Bedroom apartment Standard'}\n",
      "{'hotel_id': 1423186, 'room_id': 142318603, 'room_name': 'Standard Studio - Second Floor'}\n",
      "{'hotel_id': 1423186, 'room_id': 142318604, 'room_name': 'Studio - First Floor'}\n",
      "{'hotel_id': 1423186, 'room_id': 142318601, 'room_name': 'Studio - Second Floor'}\n",
      "{'hotel_id': 1423186, 'room_id': 142318602, 'room_name': 'Studio with Sea View'}\n",
      "inputCatalog: (Supplier's provided catalog) lp5f263\n",
      "{'core_room_id': 1470083, 'core_hotel_id': 389731, 'supplier_room_id': 320419200, 'supplier_room_name': 'Japanese Room (Dog Friendly) Non-smoking'}\n",
      "{'core_room_id': 1475398, 'core_hotel_id': 389731, 'supplier_room_id': 321219581, 'supplier_room_name': 'Japanese Room Non-Smoking'}\n",
      "{'core_room_id': 1466808, 'core_hotel_id': 389731, 'supplier_room_id': 200098806, 'supplier_room_name': 'Japanese Room smoking'}\n",
      "{'core_room_id': 1462119, 'core_hotel_id': 389731, 'supplier_room_id': 200098807, 'supplier_room_name': 'Japanese Western Style Room smoking'}\n",
      "{'core_room_id': 1458524, 'core_hotel_id': 389731, 'supplier_room_id': 321219545, 'supplier_room_name': 'Single Room, Non Smoking'}\n",
      "{'core_room_id': 1473072, 'core_hotel_id': 389731, 'supplier_room_id': 200098804, 'supplier_room_name': 'Single Room, Smoking'}\n",
      "------------------------------------------------------------------------------------------------------------------------------------------------------------\n",
      "referenceCatalog: (Standardized catalog):  lp708df\n",
      "{'hotel_id': 6409477, 'room_id': 640947701, 'room_name': 'One-Bedroom Villa'}\n",
      "{'hotel_id': 6409477, 'room_id': 640947702, 'room_name': 'One-Bedroom Villa'}\n",
      "{'hotel_id': 6409477, 'room_id': 640947703, 'room_name': 'One-Bedroom Villa'}\n",
      "{'hotel_id': 6409477, 'room_id': 640947704, 'room_name': 'One-Bedroom Villa'}\n",
      "inputCatalog: (Supplier's provided catalog) lp708df\n",
      "{'core_room_id': 1200716, 'core_hotel_id': 461023, 'supplier_room_id': 228602362, 'supplier_room_name': 'Deluxe Quadruple Room, Multiple Beds'}\n",
      "{'core_room_id': 1204571, 'core_hotel_id': 461023, 'supplier_room_id': 228602361, 'supplier_room_name': 'Deluxe Triple Room, 3 Twin Beds'}\n",
      "{'core_room_id': 1198144, 'core_hotel_id': 461023, 'supplier_room_id': 228602344, 'supplier_room_name': 'Economy Triple Room, 3 Twin Beds'}\n",
      "{'core_room_id': 1207336, 'core_hotel_id': 461023, 'supplier_room_id': 228602360, 'supplier_room_name': 'Economy Triple Room, Multiple Beds'}\n",
      "------------------------------------------------------------------------------------------------------------------------------------------------------------\n",
      "referenceCatalog: (Standardized catalog):  lp65551db2\n",
      "{'hotel_id': 13439991, 'room_id': 1142158973, 'room_name': 'Basic Double Room (#1)'}\n",
      "{'hotel_id': 13439991, 'room_id': 1142158968, 'room_name': 'Basic Double Room (#3)'}\n",
      "{'hotel_id': 13439991, 'room_id': 1142158953, 'room_name': 'Basic Room (#7)'}\n",
      "{'hotel_id': 13439991, 'room_id': 1142158931, 'room_name': 'Basic Room, Shared Bathroom (#5)'}\n",
      "{'hotel_id': 13439991, 'room_id': 1142158922, 'room_name': 'Basic Triple Room (#6)'}\n",
      "{'hotel_id': 13439991, 'room_id': 1142158944, 'room_name': 'Basic Twin Room (#4)'}\n",
      "{'hotel_id': 13439991, 'room_id': 1142158964, 'room_name': 'Family Room (#2)'}\n",
      "inputCatalog: (Supplier's provided catalog) lp65551db2\n",
      "{'core_room_id': 736804, 'core_hotel_id': 1700076978, 'supplier_room_id': 214641850, 'supplier_room_name': 'Basic Double Room (#1)'}\n",
      "{'core_room_id': 740891, 'core_hotel_id': 1700076978, 'supplier_room_id': 214642157, 'supplier_room_name': 'Basic Double Room (#3)'}\n",
      "{'core_room_id': 732268, 'core_hotel_id': 1700076978, 'supplier_room_id': 214642169, 'supplier_room_name': 'Basic Room (#7)'}\n",
      "{'core_room_id': 746691, 'core_hotel_id': 1700076978, 'supplier_room_id': 214642166, 'supplier_room_name': 'Basic Room, Shared Bathroom (#5)'}\n",
      "{'core_room_id': 743870, 'core_hotel_id': 1700076978, 'supplier_room_id': 214642167, 'supplier_room_name': 'Basic Triple Room (#6)'}\n",
      "{'core_room_id': 748379, 'core_hotel_id': 1700076978, 'supplier_room_id': 214642160, 'supplier_room_name': 'Basic Twin Room (#4)'}\n",
      "{'core_room_id': 724644, 'core_hotel_id': 1700076978, 'supplier_room_id': 214641860, 'supplier_room_name': 'Family Room (#2)'}\n",
      "------------------------------------------------------------------------------------------------------------------------------------------------------------\n"
     ]
    }
   ],
   "source": [
    "\n",
    "def visualize(lp_id):\n",
    "    for row in merged_df2.filter(pl.col(\"lp_id\") == lp_id).iter_rows(named=True):\n",
    "        print(\"referenceCatalog: (Standardized catalog): \", lp_id)\n",
    "        for i in sorted(row[\"data\"], key=lambda x: x['room_name']):\n",
    "            print(i)\n",
    "        print(\"inputCatalog: (Supplier's provided catalog)\", lp_id)\n",
    "        for i in sorted(row[\"data_right\"], key=lambda x: x['supplier_room_name']):\n",
    "            print(i)\n",
    "\n",
    "for lp_id in check_lp_ids[50:60]:\n",
    "    visualize(lp_id)\n",
    "    print(\"--------------------------\"*6)"
   ]
  },
  {
   "cell_type": "markdown",
   "id": "20e3fdac-4840-4c07-8795-5f983df2d110",
   "metadata": {},
   "source": [
    "# EXPORT as json"
   ]
  },
  {
   "cell_type": "code",
   "execution_count": 82,
   "id": "c65d923c-7d65-4cd0-b35e-8e6a8d5c37a1",
   "metadata": {},
   "outputs": [],
   "source": [
    "data = []\n",
    "for row in merged_df2.iter_rows(named=True):\n",
    "    reference = []\n",
    "    supplier = []\n",
    "    for r in row[\"data\"]:\n",
    "        reference.append(r[\"room_name\"])\n",
    "    for s in row[\"data_right\"]:\n",
    "        supplier.append(s[\"supplier_room_name\"])\n",
    "    data.append({\"reference\": reference, \"supplier\": supplier})"
   ]
  },
  {
   "cell_type": "code",
   "execution_count": 87,
   "id": "f2429b95-c095-44f3-9f51-85212a35ea48",
   "metadata": {},
   "outputs": [],
   "source": [
    "import json\n",
    "with open(\"../data/merged.json\", \"w\") as f:\n",
    "    json.dump(data , f)"
   ]
  },
  {
   "cell_type": "code",
   "execution_count": 88,
   "id": "5585374c-1a54-4be2-840f-f24b3faef8b0",
   "metadata": {},
   "outputs": [],
   "source": [
    "with open(\"../data/merged.json\", \"r\") as f:\n",
    "    data_r = json.load(f)"
   ]
  },
  {
   "cell_type": "code",
   "execution_count": null,
   "id": "8b14643a-1c1b-4721-8528-c4881830f66e",
   "metadata": {
    "scrolled": true
   },
   "outputs": [],
   "source": [
    "data_r"
   ]
  },
  {
   "cell_type": "code",
   "execution_count": null,
   "id": "6d90c441-d06d-4ff5-8e2b-9fd0b44b5afe",
   "metadata": {},
   "outputs": [],
   "source": []
  }
 ],
 "metadata": {
  "kernelspec": {
   "display_name": "Python 3 (ipykernel)",
   "language": "python",
   "name": "python3"
  },
  "language_info": {
   "codemirror_mode": {
    "name": "ipython",
    "version": 3
   },
   "file_extension": ".py",
   "mimetype": "text/x-python",
   "name": "python",
   "nbconvert_exporter": "python",
   "pygments_lexer": "ipython3",
   "version": "3.12.7"
  }
 },
 "nbformat": 4,
 "nbformat_minor": 5
}
