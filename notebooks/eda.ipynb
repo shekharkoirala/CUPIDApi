{
 "cells": [
  {
   "cell_type": "code",
   "execution_count": 1,
   "metadata": {},
   "outputs": [
    {
     "name": "stdout",
     "output_type": "stream",
     "text": [
      "['/home/shekhar/.local/share/uv/python/cpython-3.13.0-linux-x86_64-gnu/lib/python313.zip', '/home/shekhar/.local/share/uv/python/cpython-3.13.0-linux-x86_64-gnu/lib/python3.13', '/home/shekhar/.local/share/uv/python/cpython-3.13.0-linux-x86_64-gnu/lib/python3.13/lib-dynload', '', '/home/shekhar/shekhar/CUPIDApi/.venv/lib/python3.13/site-packages', '/home/shekhar/shekhar/CUPIDApi']\n"
     ]
    }
   ],
   "source": [
    "import polars as pl\n",
    "import datetime as dt\n",
    "\n",
    "import os\n",
    "import sys\n",
    "\n",
    "new_path = \"/\".join(os.getcwd().split(\"/\")[:-1])\n",
    "sys.path.append(new_path)\n",
    "\n",
    "print(sys.path)\n",
    "\n",
    "rooms_csv = pl.read_csv(f\"{new_path}/data/updated_core_rooms.csv\", try_parse_dates=True)"
   ]
  },
  {
   "cell_type": "code",
   "execution_count": 2,
   "metadata": {},
   "outputs": [
    {
     "data": {
      "text/plain": [
       "polars.config.Config"
      ]
     },
     "execution_count": 2,
     "metadata": {},
     "output_type": "execute_result"
    }
   ],
   "source": [
    "pl.Config.set_fmt_str_lengths(100000)  # for string columns, increases string length shown\n",
    "pl.Config.set_tbl_cols(-1)           # show all columns\n",
    "pl.Config.set_tbl_rows(100)  "
   ]
  },
  {
   "cell_type": "code",
   "execution_count": null,
   "metadata": {
    "scrolled": true
   },
   "outputs": [],
   "source": [
    "rooms_csv"
   ]
  },
  {
   "cell_type": "code",
   "execution_count": 4,
   "metadata": {},
   "outputs": [
    {
     "name": "stdout",
     "output_type": "stream",
     "text": [
      "shape: (1, 6)\n",
      "┌────────────────┬────────────────┬────────────────┬───────────────┬───────────────┬───────────────┐\n",
      "│ core_room_id_d ┆ core_hotel_id_ ┆ lp_id_duplicat ┆ supplier_room ┆ supplier_name ┆ supplier_room │\n",
      "│ uplicate_count ┆ duplicate_coun ┆ e_count        ┆ _id_duplicate ┆ _duplicate_co ┆ _name_duplica │\n",
      "│ ---            ┆ t              ┆ ---            ┆ _count        ┆ unt           ┆ te_count      │\n",
      "│ i64            ┆ ---            ┆ i64            ┆ ---           ┆ ---           ┆ ---           │\n",
      "│                ┆ i64            ┆                ┆ i64           ┆ i64           ┆ i64           │\n",
      "╞════════════════╪════════════════╪════════════════╪═══════════════╪═══════════════╪═══════════════╡\n",
      "│ 0              ┆ 2538704        ┆ 2538704        ┆ 87008         ┆ 2869056       ┆ 2271249       │\n",
      "└────────────────┴────────────────┴────────────────┴───────────────┴───────────────┴───────────────┘ 2869056\n"
     ]
    }
   ],
   "source": [
    "duplicates_exist_rooms_csv = rooms_csv.select(\n",
    "    pl.all().map_batches(lambda s: s.is_duplicated().sum()).name.suffix(\"_duplicate_count\")\n",
    ")\n",
    "\n",
    "print(duplicates_exist_rooms_csv, len(rooms_csv))"
   ]
  },
  {
   "cell_type": "code",
   "execution_count": 29,
   "metadata": {},
   "outputs": [
    {
     "data": {
      "text/plain": [
       "813834"
      ]
     },
     "execution_count": 29,
     "metadata": {},
     "output_type": "execute_result"
    }
   ],
   "source": [
    "map_ = {}\n",
    "for row in rooms_csv.iter_rows(named=True):\n",
    "    if row[\"core_hotel_id\"] in map_:\n",
    "        if row[\"lp_id\"] != map_[row[\"core_hotel_id\"]]:\n",
    "            print(row)\n",
    "            break\n",
    "    else:\n",
    "        map_[row[\"core_hotel_id\"]] = row[\"lp_id\"]\n",
    "    # break\n",
    "len(map_)"
   ]
  },
  {
   "cell_type": "code",
   "execution_count": 27,
   "metadata": {},
   "outputs": [],
   "source": [
    "reference_csv = pl.read_csv(f\"{new_path}/data/referance_rooms-1737378184366.csv\", try_parse_dates=True)"
   ]
  },
  {
   "cell_type": "code",
   "execution_count": 28,
   "metadata": {},
   "outputs": [
    {
     "data": {
      "text/html": [
       "<div><style>\n",
       ".dataframe > thead > tr,\n",
       ".dataframe > tbody > tr {\n",
       "  text-align: right;\n",
       "  white-space: pre-wrap;\n",
       "}\n",
       "</style>\n",
       "<small>shape: (5, 4)</small><table border=\"1\" class=\"dataframe\"><thead><tr><th>hotel_id</th><th>lp_id</th><th>room_id</th><th>room_name</th></tr><tr><td>i64</td><td>str</td><td>i64</td><td>str</td></tr></thead><tbody><tr><td>13484077</td><td>&quot;lp23e8ef&quot;</td><td>1142730702</td><td>&quot;Double or Twin Room&quot;</td></tr><tr><td>13487663</td><td>&quot;lp6554de34&quot;</td><td>1141927122</td><td>&quot;House&quot;</td></tr><tr><td>13462809</td><td>&quot;lp6556c3dc&quot;</td><td>1142722063</td><td>&quot;Room&quot;</td></tr><tr><td>13530116</td><td>&quot;lp6555450b&quot;</td><td>1141968275</td><td>&quot;Triple Room&quot;</td></tr><tr><td>13530071</td><td>&quot;lp6557a92c&quot;</td><td>1142513784</td><td>&quot;Apartment&quot;</td></tr></tbody></table></div>"
      ],
      "text/plain": [
       "shape: (5, 4)\n",
       "┌──────────┬────────────┬────────────┬─────────────────────┐\n",
       "│ hotel_id ┆ lp_id      ┆ room_id    ┆ room_name           │\n",
       "│ ---      ┆ ---        ┆ ---        ┆ ---                 │\n",
       "│ i64      ┆ str        ┆ i64        ┆ str                 │\n",
       "╞══════════╪════════════╪════════════╪═════════════════════╡\n",
       "│ 13484077 ┆ lp23e8ef   ┆ 1142730702 ┆ Double or Twin Room │\n",
       "│ 13487663 ┆ lp6554de34 ┆ 1141927122 ┆ House               │\n",
       "│ 13462809 ┆ lp6556c3dc ┆ 1142722063 ┆ Room                │\n",
       "│ 13530116 ┆ lp6555450b ┆ 1141968275 ┆ Triple Room         │\n",
       "│ 13530071 ┆ lp6557a92c ┆ 1142513784 ┆ Apartment           │\n",
       "└──────────┴────────────┴────────────┴─────────────────────┘"
      ]
     },
     "execution_count": 28,
     "metadata": {},
     "output_type": "execute_result"
    }
   ],
   "source": [
    "reference_csv.head()"
   ]
  },
  {
   "cell_type": "code",
   "execution_count": 31,
   "metadata": {},
   "outputs": [
    {
     "data": {
      "text/plain": [
       "40011"
      ]
     },
     "execution_count": 31,
     "metadata": {},
     "output_type": "execute_result"
    }
   ],
   "source": [
    "map_ = {}\n",
    "for row in reference_csv.iter_rows(named=True):\n",
    "    if row[\"hotel_id\"] in map_:\n",
    "        if row[\"lp_id\"] != map_[row[\"hotel_id\"]]:\n",
    "            print(row)\n",
    "            break\n",
    "    else:\n",
    "        map_[row[\"hotel_id\"]] = row[\"lp_id\"]\n",
    "    # break\n",
    "len(map_)"
   ]
  },
  {
   "cell_type": "code",
   "execution_count": 6,
   "metadata": {},
   "outputs": [
    {
     "name": "stdout",
     "output_type": "stream",
     "text": [
      "shape: (1, 4)\n",
      "┌────────────────────────┬───────────────────────┬────────────────────────┬────────────────────────┐\n",
      "│ hotel_id_duplicate_cou ┆ lp_id_duplicate_count ┆ room_id_duplicate_coun ┆ room_name_duplicate_co │\n",
      "│ nt                     ┆ ---                   ┆ t                      ┆ unt                    │\n",
      "│ ---                    ┆ i64                   ┆ ---                    ┆ ---                    │\n",
      "│ i64                    ┆                       ┆ i64                    ┆ i64                    │\n",
      "╞════════════════════════╪═══════════════════════╪════════════════════════╪════════════════════════╡\n",
      "│ 76608                  ┆ 76608                 ┆ 0                      ┆ 75856                  │\n",
      "└────────────────────────┴───────────────────────┴────────────────────────┴────────────────────────┘\n"
     ]
    }
   ],
   "source": [
    "duplicates_exist_reference_csv = reference_csv.select(\n",
    "    pl.all().map_batches(lambda s: s.is_duplicated().sum()).name.suffix(\"_duplicate_count\")\n",
    ")\n",
    "\n",
    "print(duplicates_exist_reference_csv)"
   ]
  },
  {
   "cell_type": "code",
   "execution_count": 7,
   "metadata": {},
   "outputs": [
    {
     "data": {
      "text/plain": [
       "(100000, 2869056)"
      ]
     },
     "execution_count": 7,
     "metadata": {},
     "output_type": "execute_result"
    }
   ],
   "source": [
    "len(reference_csv), len(rooms_csv)"
   ]
  },
  {
   "cell_type": "code",
   "execution_count": null,
   "metadata": {},
   "outputs": [],
   "source": [
    "merged_df = reference_csv.join(rooms_csv, on=\"lp_id\", how=\"inner\")\n",
    "print(merged_df.head(2))"
   ]
  },
  {
   "cell_type": "code",
   "execution_count": 28,
   "metadata": {},
   "outputs": [
    {
     "data": {
      "text/plain": [
       "434165"
      ]
     },
     "execution_count": 28,
     "metadata": {},
     "output_type": "execute_result"
    }
   ],
   "source": [
    "len(merged_df)"
   ]
  },
  {
   "cell_type": "code",
   "execution_count": null,
   "metadata": {
    "scrolled": true
   },
   "outputs": [],
   "source": [
    "merged_df2 = reference_csv.join(rooms_csv, left_on=\"hotel_id\", right_on=\"core_hotel_id\", how=\"inner\")\n",
    "merged_df2\n"
   ]
  },
  {
   "cell_type": "code",
   "execution_count": 9,
   "metadata": {},
   "outputs": [
    {
     "data": {
      "text/plain": [
       "19527"
      ]
     },
     "execution_count": 9,
     "metadata": {},
     "output_type": "execute_result"
    }
   ],
   "source": [
    "len(merged_df2)"
   ]
  },
  {
   "cell_type": "code",
   "execution_count": null,
   "metadata": {},
   "outputs": [],
   "source": [
    "merged_df3 = reference_csv.join(rooms_csv, left_on=\"room_id\", right_on=\"core_room_id\", how=\"inner\")\n",
    "merged_df3.head()"
   ]
  },
  {
   "cell_type": "code",
   "execution_count": null,
   "metadata": {},
   "outputs": [],
   "source": [
    "len(merged_df3)\n"
   ]
  },
  {
   "cell_type": "code",
   "execution_count": null,
   "metadata": {},
   "outputs": [],
   "source": [
    "rooms_csv[\"supplier_name\"].unique()"
   ]
  },
  {
   "cell_type": "code",
   "execution_count": 25,
   "metadata": {},
   "outputs": [
    {
     "data": {
      "text/plain": [
       "polars.config.Config"
      ]
     },
     "execution_count": 25,
     "metadata": {},
     "output_type": "execute_result"
    }
   ],
   "source": []
  },
  {
   "cell_type": "code",
   "execution_count": 10,
   "metadata": {},
   "outputs": [
    {
     "name": "stdout",
     "output_type": "stream",
     "text": [
      "DataFrame for hotel_id: 112749\n"
     ]
    },
    {
     "data": {
      "text/html": [
       "<div><style>\n",
       ".dataframe > thead > tr,\n",
       ".dataframe > tbody > tr {\n",
       "  text-align: right;\n",
       "  white-space: pre-wrap;\n",
       "}\n",
       "</style>\n",
       "<small>shape: (20, 9)</small><table border=\"1\" class=\"dataframe\"><thead><tr><th>hotel_id</th><th>lp_id</th><th>room_id</th><th>room_name</th><th>core_room_id</th><th>lp_id_right</th><th>supplier_room_id</th><th>supplier_name</th><th>supplier_room_name</th></tr><tr><td>i64</td><td>str</td><td>i64</td><td>str</td><td>i64</td><td>str</td><td>i64</td><td>str</td><td>str</td></tr></thead><tbody><tr><td>112749</td><td>&quot;lp655c163c&quot;</td><td>59067</td><td>&quot;Double Room&quot;</td><td>2264106</td><td>&quot;lp1b86d&quot;</td><td>14585</td><td>&quot;Expedia&quot;</td><td>&quot;Room, 1 King Bed, Non Smoking&quot;</td></tr><tr><td>112749</td><td>&quot;lp655c163c&quot;</td><td>59085</td><td>&quot;Executive Room&quot;</td><td>2264106</td><td>&quot;lp1b86d&quot;</td><td>14585</td><td>&quot;Expedia&quot;</td><td>&quot;Room, 1 King Bed, Non Smoking&quot;</td></tr><tr><td>112749</td><td>&quot;lp655c163c&quot;</td><td>11274905</td><td>&quot;Small Double Room&quot;</td><td>2264106</td><td>&quot;lp1b86d&quot;</td><td>14585</td><td>&quot;Expedia&quot;</td><td>&quot;Room, 1 King Bed, Non Smoking&quot;</td></tr><tr><td>112749</td><td>&quot;lp655c163c&quot;</td><td>11274906</td><td>&quot;Double or Twin Room&quot;</td><td>2264106</td><td>&quot;lp1b86d&quot;</td><td>14585</td><td>&quot;Expedia&quot;</td><td>&quot;Room, 1 King Bed, Non Smoking&quot;</td></tr><tr><td>112749</td><td>&quot;lp655c163c&quot;</td><td>59067</td><td>&quot;Double Room&quot;</td><td>2273572</td><td>&quot;lp1b86d&quot;</td><td>14586</td><td>&quot;Expedia&quot;</td><td>&quot;Room, 2 Queen Beds, Non Smoking&quot;</td></tr><tr><td>112749</td><td>&quot;lp655c163c&quot;</td><td>59085</td><td>&quot;Executive Room&quot;</td><td>2273572</td><td>&quot;lp1b86d&quot;</td><td>14586</td><td>&quot;Expedia&quot;</td><td>&quot;Room, 2 Queen Beds, Non Smoking&quot;</td></tr><tr><td>112749</td><td>&quot;lp655c163c&quot;</td><td>11274905</td><td>&quot;Small Double Room&quot;</td><td>2273572</td><td>&quot;lp1b86d&quot;</td><td>14586</td><td>&quot;Expedia&quot;</td><td>&quot;Room, 2 Queen Beds, Non Smoking&quot;</td></tr><tr><td>112749</td><td>&quot;lp655c163c&quot;</td><td>11274906</td><td>&quot;Double or Twin Room&quot;</td><td>2273572</td><td>&quot;lp1b86d&quot;</td><td>14586</td><td>&quot;Expedia&quot;</td><td>&quot;Room, 2 Queen Beds, Non Smoking&quot;</td></tr><tr><td>112749</td><td>&quot;lp655c163c&quot;</td><td>59067</td><td>&quot;Double Room&quot;</td><td>2284525</td><td>&quot;lp1b86d&quot;</td><td>201100289</td><td>&quot;Expedia&quot;</td><td>&quot;Family Suite, 1 King Bed, Non Smoking&quot;</td></tr><tr><td>112749</td><td>&quot;lp655c163c&quot;</td><td>59085</td><td>&quot;Executive Room&quot;</td><td>2284525</td><td>&quot;lp1b86d&quot;</td><td>201100289</td><td>&quot;Expedia&quot;</td><td>&quot;Family Suite, 1 King Bed, Non Smoking&quot;</td></tr><tr><td>112749</td><td>&quot;lp655c163c&quot;</td><td>11274905</td><td>&quot;Small Double Room&quot;</td><td>2284525</td><td>&quot;lp1b86d&quot;</td><td>201100289</td><td>&quot;Expedia&quot;</td><td>&quot;Family Suite, 1 King Bed, Non Smoking&quot;</td></tr><tr><td>112749</td><td>&quot;lp655c163c&quot;</td><td>11274906</td><td>&quot;Double or Twin Room&quot;</td><td>2284525</td><td>&quot;lp1b86d&quot;</td><td>201100289</td><td>&quot;Expedia&quot;</td><td>&quot;Family Suite, 1 King Bed, Non Smoking&quot;</td></tr><tr><td>112749</td><td>&quot;lp655c163c&quot;</td><td>59067</td><td>&quot;Double Room&quot;</td><td>2291094</td><td>&quot;lp1b86d&quot;</td><td>201866170</td><td>&quot;Expedia&quot;</td><td>&quot;Room, 2 Queen Beds, Accessible, Non Smoking (Mobility/Hearing Impaired)&quot;</td></tr><tr><td>112749</td><td>&quot;lp655c163c&quot;</td><td>59085</td><td>&quot;Executive Room&quot;</td><td>2291094</td><td>&quot;lp1b86d&quot;</td><td>201866170</td><td>&quot;Expedia&quot;</td><td>&quot;Room, 2 Queen Beds, Accessible, Non Smoking (Mobility/Hearing Impaired)&quot;</td></tr><tr><td>112749</td><td>&quot;lp655c163c&quot;</td><td>11274905</td><td>&quot;Small Double Room&quot;</td><td>2291094</td><td>&quot;lp1b86d&quot;</td><td>201866170</td><td>&quot;Expedia&quot;</td><td>&quot;Room, 2 Queen Beds, Accessible, Non Smoking (Mobility/Hearing Impaired)&quot;</td></tr><tr><td>112749</td><td>&quot;lp655c163c&quot;</td><td>11274906</td><td>&quot;Double or Twin Room&quot;</td><td>2291094</td><td>&quot;lp1b86d&quot;</td><td>201866170</td><td>&quot;Expedia&quot;</td><td>&quot;Room, 2 Queen Beds, Accessible, Non Smoking (Mobility/Hearing Impaired)&quot;</td></tr><tr><td>112749</td><td>&quot;lp655c163c&quot;</td><td>59067</td><td>&quot;Double Room&quot;</td><td>2297193</td><td>&quot;lp1b86d&quot;</td><td>212106933</td><td>&quot;Expedia&quot;</td><td>&quot;Room, 1 King Bed, Accessible, Non Smoking&quot;</td></tr><tr><td>112749</td><td>&quot;lp655c163c&quot;</td><td>59085</td><td>&quot;Executive Room&quot;</td><td>2297193</td><td>&quot;lp1b86d&quot;</td><td>212106933</td><td>&quot;Expedia&quot;</td><td>&quot;Room, 1 King Bed, Accessible, Non Smoking&quot;</td></tr><tr><td>112749</td><td>&quot;lp655c163c&quot;</td><td>11274905</td><td>&quot;Small Double Room&quot;</td><td>2297193</td><td>&quot;lp1b86d&quot;</td><td>212106933</td><td>&quot;Expedia&quot;</td><td>&quot;Room, 1 King Bed, Accessible, Non Smoking&quot;</td></tr><tr><td>112749</td><td>&quot;lp655c163c&quot;</td><td>11274906</td><td>&quot;Double or Twin Room&quot;</td><td>2297193</td><td>&quot;lp1b86d&quot;</td><td>212106933</td><td>&quot;Expedia&quot;</td><td>&quot;Room, 1 King Bed, Accessible, Non Smoking&quot;</td></tr></tbody></table></div>"
      ],
      "text/plain": [
       "shape: (20, 9)\n",
       "┌──────────┬──────────┬──────────┬──────────┬──────────┬──────────┬──────────┬──────────┬──────────┐\n",
       "│ hotel_id ┆ lp_id    ┆ room_id  ┆ room_nam ┆ core_roo ┆ lp_id_ri ┆ supplier ┆ supplier ┆ supplier │\n",
       "│ ---      ┆ ---      ┆ ---      ┆ e        ┆ m_id     ┆ ght      ┆ _room_id ┆ _name    ┆ _room_na │\n",
       "│ i64      ┆ str      ┆ i64      ┆ ---      ┆ ---      ┆ ---      ┆ ---      ┆ ---      ┆ me       │\n",
       "│          ┆          ┆          ┆ str      ┆ i64      ┆ str      ┆ i64      ┆ str      ┆ ---      │\n",
       "│          ┆          ┆          ┆          ┆          ┆          ┆          ┆          ┆ str      │\n",
       "╞══════════╪══════════╪══════════╪══════════╪══════════╪══════════╪══════════╪══════════╪══════════╡\n",
       "│ 112749   ┆ lp655c16 ┆ 59067    ┆ Double   ┆ 2264106  ┆ lp1b86d  ┆ 14585    ┆ Expedia  ┆ Room, 1  │\n",
       "│          ┆ 3c       ┆          ┆ Room     ┆          ┆          ┆          ┆          ┆ King     │\n",
       "│          ┆          ┆          ┆          ┆          ┆          ┆          ┆          ┆ Bed, Non │\n",
       "│          ┆          ┆          ┆          ┆          ┆          ┆          ┆          ┆ Smoking  │\n",
       "│ 112749   ┆ lp655c16 ┆ 59085    ┆ Executiv ┆ 2264106  ┆ lp1b86d  ┆ 14585    ┆ Expedia  ┆ Room, 1  │\n",
       "│          ┆ 3c       ┆          ┆ e Room   ┆          ┆          ┆          ┆          ┆ King     │\n",
       "│          ┆          ┆          ┆          ┆          ┆          ┆          ┆          ┆ Bed, Non │\n",
       "│          ┆          ┆          ┆          ┆          ┆          ┆          ┆          ┆ Smoking  │\n",
       "│ 112749   ┆ lp655c16 ┆ 11274905 ┆ Small    ┆ 2264106  ┆ lp1b86d  ┆ 14585    ┆ Expedia  ┆ Room, 1  │\n",
       "│          ┆ 3c       ┆          ┆ Double   ┆          ┆          ┆          ┆          ┆ King     │\n",
       "│          ┆          ┆          ┆ Room     ┆          ┆          ┆          ┆          ┆ Bed, Non │\n",
       "│          ┆          ┆          ┆          ┆          ┆          ┆          ┆          ┆ Smoking  │\n",
       "│ 112749   ┆ lp655c16 ┆ 11274906 ┆ Double   ┆ 2264106  ┆ lp1b86d  ┆ 14585    ┆ Expedia  ┆ Room, 1  │\n",
       "│          ┆ 3c       ┆          ┆ or Twin  ┆          ┆          ┆          ┆          ┆ King     │\n",
       "│          ┆          ┆          ┆ Room     ┆          ┆          ┆          ┆          ┆ Bed, Non │\n",
       "│          ┆          ┆          ┆          ┆          ┆          ┆          ┆          ┆ Smoking  │\n",
       "│ 112749   ┆ lp655c16 ┆ 59067    ┆ Double   ┆ 2273572  ┆ lp1b86d  ┆ 14586    ┆ Expedia  ┆ Room, 2  │\n",
       "│          ┆ 3c       ┆          ┆ Room     ┆          ┆          ┆          ┆          ┆ Queen    │\n",
       "│          ┆          ┆          ┆          ┆          ┆          ┆          ┆          ┆ Beds,    │\n",
       "│          ┆          ┆          ┆          ┆          ┆          ┆          ┆          ┆ Non      │\n",
       "│          ┆          ┆          ┆          ┆          ┆          ┆          ┆          ┆ Smoking  │\n",
       "│ 112749   ┆ lp655c16 ┆ 59085    ┆ Executiv ┆ 2273572  ┆ lp1b86d  ┆ 14586    ┆ Expedia  ┆ Room, 2  │\n",
       "│          ┆ 3c       ┆          ┆ e Room   ┆          ┆          ┆          ┆          ┆ Queen    │\n",
       "│          ┆          ┆          ┆          ┆          ┆          ┆          ┆          ┆ Beds,    │\n",
       "│          ┆          ┆          ┆          ┆          ┆          ┆          ┆          ┆ Non      │\n",
       "│          ┆          ┆          ┆          ┆          ┆          ┆          ┆          ┆ Smoking  │\n",
       "│ 112749   ┆ lp655c16 ┆ 11274905 ┆ Small    ┆ 2273572  ┆ lp1b86d  ┆ 14586    ┆ Expedia  ┆ Room, 2  │\n",
       "│          ┆ 3c       ┆          ┆ Double   ┆          ┆          ┆          ┆          ┆ Queen    │\n",
       "│          ┆          ┆          ┆ Room     ┆          ┆          ┆          ┆          ┆ Beds,    │\n",
       "│          ┆          ┆          ┆          ┆          ┆          ┆          ┆          ┆ Non      │\n",
       "│          ┆          ┆          ┆          ┆          ┆          ┆          ┆          ┆ Smoking  │\n",
       "│ 112749   ┆ lp655c16 ┆ 11274906 ┆ Double   ┆ 2273572  ┆ lp1b86d  ┆ 14586    ┆ Expedia  ┆ Room, 2  │\n",
       "│          ┆ 3c       ┆          ┆ or Twin  ┆          ┆          ┆          ┆          ┆ Queen    │\n",
       "│          ┆          ┆          ┆ Room     ┆          ┆          ┆          ┆          ┆ Beds,    │\n",
       "│          ┆          ┆          ┆          ┆          ┆          ┆          ┆          ┆ Non      │\n",
       "│          ┆          ┆          ┆          ┆          ┆          ┆          ┆          ┆ Smoking  │\n",
       "│ 112749   ┆ lp655c16 ┆ 59067    ┆ Double   ┆ 2284525  ┆ lp1b86d  ┆ 20110028 ┆ Expedia  ┆ Family   │\n",
       "│          ┆ 3c       ┆          ┆ Room     ┆          ┆          ┆ 9        ┆          ┆ Suite, 1 │\n",
       "│          ┆          ┆          ┆          ┆          ┆          ┆          ┆          ┆ King     │\n",
       "│          ┆          ┆          ┆          ┆          ┆          ┆          ┆          ┆ Bed, Non │\n",
       "│          ┆          ┆          ┆          ┆          ┆          ┆          ┆          ┆ Smoking  │\n",
       "│ 112749   ┆ lp655c16 ┆ 59085    ┆ Executiv ┆ 2284525  ┆ lp1b86d  ┆ 20110028 ┆ Expedia  ┆ Family   │\n",
       "│          ┆ 3c       ┆          ┆ e Room   ┆          ┆          ┆ 9        ┆          ┆ Suite, 1 │\n",
       "│          ┆          ┆          ┆          ┆          ┆          ┆          ┆          ┆ King     │\n",
       "│          ┆          ┆          ┆          ┆          ┆          ┆          ┆          ┆ Bed, Non │\n",
       "│          ┆          ┆          ┆          ┆          ┆          ┆          ┆          ┆ Smoking  │\n",
       "│ 112749   ┆ lp655c16 ┆ 11274905 ┆ Small    ┆ 2284525  ┆ lp1b86d  ┆ 20110028 ┆ Expedia  ┆ Family   │\n",
       "│          ┆ 3c       ┆          ┆ Double   ┆          ┆          ┆ 9        ┆          ┆ Suite, 1 │\n",
       "│          ┆          ┆          ┆ Room     ┆          ┆          ┆          ┆          ┆ King     │\n",
       "│          ┆          ┆          ┆          ┆          ┆          ┆          ┆          ┆ Bed, Non │\n",
       "│          ┆          ┆          ┆          ┆          ┆          ┆          ┆          ┆ Smoking  │\n",
       "│ 112749   ┆ lp655c16 ┆ 11274906 ┆ Double   ┆ 2284525  ┆ lp1b86d  ┆ 20110028 ┆ Expedia  ┆ Family   │\n",
       "│          ┆ 3c       ┆          ┆ or Twin  ┆          ┆          ┆ 9        ┆          ┆ Suite, 1 │\n",
       "│          ┆          ┆          ┆ Room     ┆          ┆          ┆          ┆          ┆ King     │\n",
       "│          ┆          ┆          ┆          ┆          ┆          ┆          ┆          ┆ Bed, Non │\n",
       "│          ┆          ┆          ┆          ┆          ┆          ┆          ┆          ┆ Smoking  │\n",
       "│ 112749   ┆ lp655c16 ┆ 59067    ┆ Double   ┆ 2291094  ┆ lp1b86d  ┆ 20186617 ┆ Expedia  ┆ Room, 2  │\n",
       "│          ┆ 3c       ┆          ┆ Room     ┆          ┆          ┆ 0        ┆          ┆ Queen    │\n",
       "│          ┆          ┆          ┆          ┆          ┆          ┆          ┆          ┆ Beds,    │\n",
       "│          ┆          ┆          ┆          ┆          ┆          ┆          ┆          ┆ Accessib │\n",
       "│          ┆          ┆          ┆          ┆          ┆          ┆          ┆          ┆ le, Non  │\n",
       "│          ┆          ┆          ┆          ┆          ┆          ┆          ┆          ┆ Smoking  │\n",
       "│          ┆          ┆          ┆          ┆          ┆          ┆          ┆          ┆ (Mobilit │\n",
       "│          ┆          ┆          ┆          ┆          ┆          ┆          ┆          ┆ y/Hearin │\n",
       "│          ┆          ┆          ┆          ┆          ┆          ┆          ┆          ┆ g Impair │\n",
       "│          ┆          ┆          ┆          ┆          ┆          ┆          ┆          ┆ ed)      │\n",
       "│ 112749   ┆ lp655c16 ┆ 59085    ┆ Executiv ┆ 2291094  ┆ lp1b86d  ┆ 20186617 ┆ Expedia  ┆ Room, 2  │\n",
       "│          ┆ 3c       ┆          ┆ e Room   ┆          ┆          ┆ 0        ┆          ┆ Queen    │\n",
       "│          ┆          ┆          ┆          ┆          ┆          ┆          ┆          ┆ Beds,    │\n",
       "│          ┆          ┆          ┆          ┆          ┆          ┆          ┆          ┆ Accessib │\n",
       "│          ┆          ┆          ┆          ┆          ┆          ┆          ┆          ┆ le, Non  │\n",
       "│          ┆          ┆          ┆          ┆          ┆          ┆          ┆          ┆ Smoking  │\n",
       "│          ┆          ┆          ┆          ┆          ┆          ┆          ┆          ┆ (Mobilit │\n",
       "│          ┆          ┆          ┆          ┆          ┆          ┆          ┆          ┆ y/Hearin │\n",
       "│          ┆          ┆          ┆          ┆          ┆          ┆          ┆          ┆ g Impair │\n",
       "│          ┆          ┆          ┆          ┆          ┆          ┆          ┆          ┆ ed)      │\n",
       "│ 112749   ┆ lp655c16 ┆ 11274905 ┆ Small    ┆ 2291094  ┆ lp1b86d  ┆ 20186617 ┆ Expedia  ┆ Room, 2  │\n",
       "│          ┆ 3c       ┆          ┆ Double   ┆          ┆          ┆ 0        ┆          ┆ Queen    │\n",
       "│          ┆          ┆          ┆ Room     ┆          ┆          ┆          ┆          ┆ Beds,    │\n",
       "│          ┆          ┆          ┆          ┆          ┆          ┆          ┆          ┆ Accessib │\n",
       "│          ┆          ┆          ┆          ┆          ┆          ┆          ┆          ┆ le, Non  │\n",
       "│          ┆          ┆          ┆          ┆          ┆          ┆          ┆          ┆ Smoking  │\n",
       "│          ┆          ┆          ┆          ┆          ┆          ┆          ┆          ┆ (Mobilit │\n",
       "│          ┆          ┆          ┆          ┆          ┆          ┆          ┆          ┆ y/Hearin │\n",
       "│          ┆          ┆          ┆          ┆          ┆          ┆          ┆          ┆ g Impair │\n",
       "│          ┆          ┆          ┆          ┆          ┆          ┆          ┆          ┆ ed)      │\n",
       "│ 112749   ┆ lp655c16 ┆ 11274906 ┆ Double   ┆ 2291094  ┆ lp1b86d  ┆ 20186617 ┆ Expedia  ┆ Room, 2  │\n",
       "│          ┆ 3c       ┆          ┆ or Twin  ┆          ┆          ┆ 0        ┆          ┆ Queen    │\n",
       "│          ┆          ┆          ┆ Room     ┆          ┆          ┆          ┆          ┆ Beds,    │\n",
       "│          ┆          ┆          ┆          ┆          ┆          ┆          ┆          ┆ Accessib │\n",
       "│          ┆          ┆          ┆          ┆          ┆          ┆          ┆          ┆ le, Non  │\n",
       "│          ┆          ┆          ┆          ┆          ┆          ┆          ┆          ┆ Smoking  │\n",
       "│          ┆          ┆          ┆          ┆          ┆          ┆          ┆          ┆ (Mobilit │\n",
       "│          ┆          ┆          ┆          ┆          ┆          ┆          ┆          ┆ y/Hearin │\n",
       "│          ┆          ┆          ┆          ┆          ┆          ┆          ┆          ┆ g Impair │\n",
       "│          ┆          ┆          ┆          ┆          ┆          ┆          ┆          ┆ ed)      │\n",
       "│ 112749   ┆ lp655c16 ┆ 59067    ┆ Double   ┆ 2297193  ┆ lp1b86d  ┆ 21210693 ┆ Expedia  ┆ Room, 1  │\n",
       "│          ┆ 3c       ┆          ┆ Room     ┆          ┆          ┆ 3        ┆          ┆ King     │\n",
       "│          ┆          ┆          ┆          ┆          ┆          ┆          ┆          ┆ Bed, Acc │\n",
       "│          ┆          ┆          ┆          ┆          ┆          ┆          ┆          ┆ essible, │\n",
       "│          ┆          ┆          ┆          ┆          ┆          ┆          ┆          ┆ Non      │\n",
       "│          ┆          ┆          ┆          ┆          ┆          ┆          ┆          ┆ Smoking  │\n",
       "│ 112749   ┆ lp655c16 ┆ 59085    ┆ Executiv ┆ 2297193  ┆ lp1b86d  ┆ 21210693 ┆ Expedia  ┆ Room, 1  │\n",
       "│          ┆ 3c       ┆          ┆ e Room   ┆          ┆          ┆ 3        ┆          ┆ King     │\n",
       "│          ┆          ┆          ┆          ┆          ┆          ┆          ┆          ┆ Bed, Acc │\n",
       "│          ┆          ┆          ┆          ┆          ┆          ┆          ┆          ┆ essible, │\n",
       "│          ┆          ┆          ┆          ┆          ┆          ┆          ┆          ┆ Non      │\n",
       "│          ┆          ┆          ┆          ┆          ┆          ┆          ┆          ┆ Smoking  │\n",
       "│ 112749   ┆ lp655c16 ┆ 11274905 ┆ Small    ┆ 2297193  ┆ lp1b86d  ┆ 21210693 ┆ Expedia  ┆ Room, 1  │\n",
       "│          ┆ 3c       ┆          ┆ Double   ┆          ┆          ┆ 3        ┆          ┆ King     │\n",
       "│          ┆          ┆          ┆ Room     ┆          ┆          ┆          ┆          ┆ Bed, Acc │\n",
       "│          ┆          ┆          ┆          ┆          ┆          ┆          ┆          ┆ essible, │\n",
       "│          ┆          ┆          ┆          ┆          ┆          ┆          ┆          ┆ Non      │\n",
       "│          ┆          ┆          ┆          ┆          ┆          ┆          ┆          ┆ Smoking  │\n",
       "│ 112749   ┆ lp655c16 ┆ 11274906 ┆ Double   ┆ 2297193  ┆ lp1b86d  ┆ 21210693 ┆ Expedia  ┆ Room, 1  │\n",
       "│          ┆ 3c       ┆          ┆ or Twin  ┆          ┆          ┆ 3        ┆          ┆ King     │\n",
       "│          ┆          ┆          ┆ Room     ┆          ┆          ┆          ┆          ┆ Bed, Acc │\n",
       "│          ┆          ┆          ┆          ┆          ┆          ┆          ┆          ┆ essible, │\n",
       "│          ┆          ┆          ┆          ┆          ┆          ┆          ┆          ┆ Non      │\n",
       "│          ┆          ┆          ┆          ┆          ┆          ┆          ┆          ┆ Smoking  │\n",
       "└──────────┴──────────┴──────────┴──────────┴──────────┴──────────┴──────────┴──────────┴──────────┘"
      ]
     },
     "execution_count": 10,
     "metadata": {},
     "output_type": "execute_result"
    }
   ],
   "source": [
    "for hotel in merged_df2[\"hotel_id\"].unique():\n",
    "    df_filtered = merged_df2.filter(pl.col(\"hotel_id\") == hotel)\n",
    "    print(f\"DataFrame for hotel_id: {hotel}\")\n",
    "    # print(df_filtered)\n",
    "    break\n",
    "df_filtered"
   ]
  },
  {
   "cell_type": "code",
   "execution_count": 22,
   "metadata": {},
   "outputs": [
    {
     "data": {
      "text/html": [
       "<div><style>\n",
       ".dataframe > thead > tr,\n",
       ".dataframe > tbody > tr {\n",
       "  text-align: right;\n",
       "  white-space: pre-wrap;\n",
       "}\n",
       "</style>\n",
       "<small>shape: (5, 6)</small><table border=\"1\" class=\"dataframe\"><thead><tr><th>core_room_id</th><th>core_hotel_id</th><th>lp_id</th><th>supplier_room_id</th><th>supplier_name</th><th>supplier_room_name</th></tr><tr><td>i64</td><td>i64</td><td>str</td><td>i64</td><td>str</td><td>str</td></tr></thead><tbody><tr><td>667943</td><td>235111</td><td>&quot;lp39667&quot;</td><td>200251101</td><td>&quot;Expedia&quot;</td><td>&quot;Standard Room, 2 Queen Beds, Non Smoking&quot;</td></tr><tr><td>674967</td><td>235111</td><td>&quot;lp39667&quot;</td><td>200251098</td><td>&quot;Expedia&quot;</td><td>&quot;Standard Room, 1 King Bed, Non Smoking&quot;</td></tr><tr><td>679667</td><td>235111</td><td>&quot;lp39667&quot;</td><td>201429392</td><td>&quot;Expedia&quot;</td><td>&quot;Room, Accessible&quot;</td></tr><tr><td>683004</td><td>235111</td><td>&quot;lp39667&quot;</td><td>200251103</td><td>&quot;Expedia&quot;</td><td>&quot;Standard Room, 1 King Bed, Accessible, Non Smoking&quot;</td></tr><tr><td>685563</td><td>235111</td><td>&quot;lp39667&quot;</td><td>200251106</td><td>&quot;Expedia&quot;</td><td>&quot;Suite, 1 King Bed&quot;</td></tr></tbody></table></div>"
      ],
      "text/plain": [
       "shape: (5, 6)\n",
       "┌──────────────┬───────────────┬─────────┬──────────────────┬───────────────┬──────────────────────┐\n",
       "│ core_room_id ┆ core_hotel_id ┆ lp_id   ┆ supplier_room_id ┆ supplier_name ┆ supplier_room_name   │\n",
       "│ ---          ┆ ---           ┆ ---     ┆ ---              ┆ ---           ┆ ---                  │\n",
       "│ i64          ┆ i64           ┆ str     ┆ i64              ┆ str           ┆ str                  │\n",
       "╞══════════════╪═══════════════╪═════════╪══════════════════╪═══════════════╪══════════════════════╡\n",
       "│ 667943       ┆ 235111        ┆ lp39667 ┆ 200251101        ┆ Expedia       ┆ Standard Room, 2     │\n",
       "│              ┆               ┆         ┆                  ┆               ┆ Queen Beds, Non      │\n",
       "│              ┆               ┆         ┆                  ┆               ┆ Smoking              │\n",
       "│ 674967       ┆ 235111        ┆ lp39667 ┆ 200251098        ┆ Expedia       ┆ Standard Room, 1     │\n",
       "│              ┆               ┆         ┆                  ┆               ┆ King Bed, Non        │\n",
       "│              ┆               ┆         ┆                  ┆               ┆ Smoking              │\n",
       "│ 679667       ┆ 235111        ┆ lp39667 ┆ 201429392        ┆ Expedia       ┆ Room, Accessible     │\n",
       "│ 683004       ┆ 235111        ┆ lp39667 ┆ 200251103        ┆ Expedia       ┆ Standard Room, 1     │\n",
       "│              ┆               ┆         ┆                  ┆               ┆ King Bed,            │\n",
       "│              ┆               ┆         ┆                  ┆               ┆ Accessible, Non      │\n",
       "│              ┆               ┆         ┆                  ┆               ┆ Smoking              │\n",
       "│ 685563       ┆ 235111        ┆ lp39667 ┆ 200251106        ┆ Expedia       ┆ Suite, 1 King Bed    │\n",
       "└──────────────┴───────────────┴─────────┴──────────────────┴───────────────┴──────────────────────┘"
      ]
     },
     "execution_count": 22,
     "metadata": {},
     "output_type": "execute_result"
    }
   ],
   "source": [
    "rooms_csv.filter(pl.col(\"core_hotel_id\") == 235111)"
   ]
  },
  {
   "cell_type": "code",
   "execution_count": 23,
   "metadata": {},
   "outputs": [
    {
     "data": {
      "text/html": [
       "<div><style>\n",
       ".dataframe > thead > tr,\n",
       ".dataframe > tbody > tr {\n",
       "  text-align: right;\n",
       "  white-space: pre-wrap;\n",
       "}\n",
       "</style>\n",
       "<small>shape: (22, 4)</small><table border=\"1\" class=\"dataframe\"><thead><tr><th>hotel_id</th><th>lp_id</th><th>room_id</th><th>room_name</th></tr><tr><td>i64</td><td>str</td><td>i64</td><td>str</td></tr></thead><tbody><tr><td>235111</td><td>&quot;lp656af16b&quot;</td><td>23511112</td><td>&quot;King Room - Non-Smoking&quot;</td></tr><tr><td>235111</td><td>&quot;lp656af16b&quot;</td><td>23511113</td><td>&quot;Queen Room with Two Queen Beds and Sofa Bed&quot;</td></tr><tr><td>235111</td><td>&quot;lp656af16b&quot;</td><td>23511116</td><td>&quot;Queen Room with Two Queen Beds and Communication Assitance&quot;</td></tr><tr><td>235111</td><td>&quot;lp656af16b&quot;</td><td>23511119</td><td>&quot;King Room&quot;</td></tr><tr><td>235111</td><td>&quot;lp656af16b&quot;</td><td>23511120</td><td>&quot;King Room with Mobility Accessible Tub&quot;</td></tr><tr><td>235111</td><td>&quot;lp656af16b&quot;</td><td>23511121</td><td>&quot;King Room with Roll-In Shower - Disability Access&quot;</td></tr><tr><td>235111</td><td>&quot;lp656af16b&quot;</td><td>23511122</td><td>&quot;Queen Room with Bath Tub - Disability Access&quot;</td></tr><tr><td>235111</td><td>&quot;lp656af16b&quot;</td><td>23511123</td><td>&quot;King Room with Sofa Bed&quot;</td></tr><tr><td>235111</td><td>&quot;lp656af16b&quot;</td><td>23511124</td><td>&quot;Queen Room with Two Queen Beds&quot;</td></tr><tr><td>235111</td><td>&quot;lp656af16b&quot;</td><td>23511125</td><td>&quot;Room #23511125&quot;</td></tr><tr><td>235111</td><td>&quot;lp656af16b&quot;</td><td>23511126</td><td>&quot;Room #23511126&quot;</td></tr><tr><td>235111</td><td>&quot;lp656af16b&quot;</td><td>23511127</td><td>&quot;Room #23511127&quot;</td></tr><tr><td>235111</td><td>&quot;lp656af16b&quot;</td><td>23511128</td><td>&quot;Room #23511128&quot;</td></tr><tr><td>235111</td><td>&quot;lp656af16b&quot;</td><td>23511129</td><td>&quot;Room #23511129&quot;</td></tr><tr><td>235111</td><td>&quot;lp656af16b&quot;</td><td>23511130</td><td>&quot;Room #23511130&quot;</td></tr><tr><td>235111</td><td>&quot;lp656af16b&quot;</td><td>23511131</td><td>&quot;Room #23511131&quot;</td></tr><tr><td>235111</td><td>&quot;lp656af16b&quot;</td><td>23511132</td><td>&quot;Room #23511132&quot;</td></tr><tr><td>235111</td><td>&quot;lp656af16b&quot;</td><td>23511133</td><td>&quot;Room #23511133&quot;</td></tr><tr><td>235111</td><td>&quot;lp656af16b&quot;</td><td>23511134</td><td>&quot;Room #23511134&quot;</td></tr><tr><td>235111</td><td>&quot;lp656af16b&quot;</td><td>23511135</td><td>&quot;Room #23511135&quot;</td></tr><tr><td>235111</td><td>&quot;lp656af16b&quot;</td><td>23511136</td><td>&quot;Room #23511136&quot;</td></tr><tr><td>235111</td><td>&quot;lp656af16b&quot;</td><td>23511137</td><td>&quot;Room #23511137&quot;</td></tr></tbody></table></div>"
      ],
      "text/plain": [
       "shape: (22, 4)\n",
       "┌──────────┬────────────┬──────────┬────────────────────────────────────────────────────────────┐\n",
       "│ hotel_id ┆ lp_id      ┆ room_id  ┆ room_name                                                  │\n",
       "│ ---      ┆ ---        ┆ ---      ┆ ---                                                        │\n",
       "│ i64      ┆ str        ┆ i64      ┆ str                                                        │\n",
       "╞══════════╪════════════╪══════════╪════════════════════════════════════════════════════════════╡\n",
       "│ 235111   ┆ lp656af16b ┆ 23511112 ┆ King Room - Non-Smoking                                    │\n",
       "│ 235111   ┆ lp656af16b ┆ 23511113 ┆ Queen Room with Two Queen Beds and Sofa Bed                │\n",
       "│ 235111   ┆ lp656af16b ┆ 23511116 ┆ Queen Room with Two Queen Beds and Communication Assitance │\n",
       "│ 235111   ┆ lp656af16b ┆ 23511119 ┆ King Room                                                  │\n",
       "│ 235111   ┆ lp656af16b ┆ 23511120 ┆ King Room with Mobility Accessible Tub                     │\n",
       "│ 235111   ┆ lp656af16b ┆ 23511121 ┆ King Room with Roll-In Shower - Disability Access          │\n",
       "│ 235111   ┆ lp656af16b ┆ 23511122 ┆ Queen Room with Bath Tub - Disability Access               │\n",
       "│ 235111   ┆ lp656af16b ┆ 23511123 ┆ King Room with Sofa Bed                                    │\n",
       "│ 235111   ┆ lp656af16b ┆ 23511124 ┆ Queen Room with Two Queen Beds                             │\n",
       "│ 235111   ┆ lp656af16b ┆ 23511125 ┆ Room #23511125                                             │\n",
       "│ 235111   ┆ lp656af16b ┆ 23511126 ┆ Room #23511126                                             │\n",
       "│ 235111   ┆ lp656af16b ┆ 23511127 ┆ Room #23511127                                             │\n",
       "│ 235111   ┆ lp656af16b ┆ 23511128 ┆ Room #23511128                                             │\n",
       "│ 235111   ┆ lp656af16b ┆ 23511129 ┆ Room #23511129                                             │\n",
       "│ 235111   ┆ lp656af16b ┆ 23511130 ┆ Room #23511130                                             │\n",
       "│ 235111   ┆ lp656af16b ┆ 23511131 ┆ Room #23511131                                             │\n",
       "│ 235111   ┆ lp656af16b ┆ 23511132 ┆ Room #23511132                                             │\n",
       "│ 235111   ┆ lp656af16b ┆ 23511133 ┆ Room #23511133                                             │\n",
       "│ 235111   ┆ lp656af16b ┆ 23511134 ┆ Room #23511134                                             │\n",
       "│ 235111   ┆ lp656af16b ┆ 23511135 ┆ Room #23511135                                             │\n",
       "│ 235111   ┆ lp656af16b ┆ 23511136 ┆ Room #23511136                                             │\n",
       "│ 235111   ┆ lp656af16b ┆ 23511137 ┆ Room #23511137                                             │\n",
       "└──────────┴────────────┴──────────┴────────────────────────────────────────────────────────────┘"
      ]
     },
     "execution_count": 23,
     "metadata": {},
     "output_type": "execute_result"
    }
   ],
   "source": [
    "reference_csv.filter(pl.col(\"hotel_id\") == 235111)"
   ]
  },
  {
   "cell_type": "code",
   "execution_count": 21,
   "metadata": {},
   "outputs": [
    {
     "data": {
      "text/html": [
       "<div><style>\n",
       ".dataframe > thead > tr,\n",
       ".dataframe > tbody > tr {\n",
       "  text-align: right;\n",
       "  white-space: pre-wrap;\n",
       "}\n",
       "</style>\n",
       "<small>shape: (852,)</small><table border=\"1\" class=\"dataframe\"><thead><tr><th>hotel_id</th></tr><tr><td>i64</td></tr></thead><tbody><tr><td>112749</td></tr><tr><td>116927</td></tr><tr><td>171130</td></tr><tr><td>172450</td></tr><tr><td>172833</td></tr><tr><td>175798</td></tr><tr><td>176914</td></tr><tr><td>177302</td></tr><tr><td>177894</td></tr><tr><td>179941</td></tr><tr><td>181242</td></tr><tr><td>183124</td></tr><tr><td>183573</td></tr><tr><td>185166</td></tr><tr><td>186061</td></tr><tr><td>186352</td></tr><tr><td>187982</td></tr><tr><td>188400</td></tr><tr><td>189117</td></tr><tr><td>189575</td></tr><tr><td>217485</td></tr><tr><td>223659</td></tr><tr><td>224900</td></tr><tr><td>226192</td></tr><tr><td>235111</td></tr><tr><td>235274</td></tr><tr><td>236309</td></tr><tr><td>236935</td></tr><tr><td>237358</td></tr><tr><td>237547</td></tr><tr><td>237795</td></tr><tr><td>237885</td></tr><tr><td>239386</td></tr><tr><td>239713</td></tr><tr><td>240468</td></tr><tr><td>240661</td></tr><tr><td>240991</td></tr><tr><td>241185</td></tr><tr><td>243821</td></tr><tr><td>243981</td></tr><tr><td>244614</td></tr><tr><td>245256</td></tr><tr><td>245259</td></tr><tr><td>245372</td></tr><tr><td>245810</td></tr><tr><td>248943</td></tr><tr><td>249599</td></tr><tr><td>249747</td></tr><tr><td>249962</td></tr><tr><td>250069</td></tr><tr><td>&hellip;</td></tr><tr><td>2244338</td></tr><tr><td>2245721</td></tr><tr><td>2248778</td></tr><tr><td>2250403</td></tr><tr><td>2250609</td></tr><tr><td>2251002</td></tr><tr><td>2254019</td></tr><tr><td>2287571</td></tr><tr><td>2288619</td></tr><tr><td>2289417</td></tr><tr><td>2289559</td></tr><tr><td>2290338</td></tr><tr><td>2311790</td></tr><tr><td>2319005</td></tr><tr><td>2319060</td></tr><tr><td>2320681</td></tr><tr><td>2462716</td></tr><tr><td>2467989</td></tr><tr><td>2499228</td></tr><tr><td>2533338</td></tr><tr><td>2535279</td></tr><tr><td>2553344</td></tr><tr><td>2576652</td></tr><tr><td>2580386</td></tr><tr><td>2615936</td></tr><tr><td>2618037</td></tr><tr><td>2627579</td></tr><tr><td>2682470</td></tr><tr><td>2698774</td></tr><tr><td>2699581</td></tr><tr><td>3291676</td></tr><tr><td>3300058</td></tr><tr><td>3301490</td></tr><tr><td>3345477</td></tr><tr><td>3371097</td></tr><tr><td>3385938</td></tr><tr><td>3390751</td></tr><tr><td>3393959</td></tr><tr><td>3399714</td></tr><tr><td>3478780</td></tr><tr><td>3542906</td></tr><tr><td>3572343</td></tr><tr><td>3584095</td></tr><tr><td>3584425</td></tr><tr><td>3586477</td></tr><tr><td>3591385</td></tr><tr><td>3623347</td></tr><tr><td>3625250</td></tr><tr><td>3735750</td></tr><tr><td>3775598</td></tr></tbody></table></div>"
      ],
      "text/plain": [
       "shape: (852,)\n",
       "Series: 'hotel_id' [i64]\n",
       "[\n",
       "\t112749\n",
       "\t116927\n",
       "\t171130\n",
       "\t172450\n",
       "\t172833\n",
       "\t175798\n",
       "\t176914\n",
       "\t177302\n",
       "\t177894\n",
       "\t179941\n",
       "\t181242\n",
       "\t183124\n",
       "\t183573\n",
       "\t185166\n",
       "\t186061\n",
       "\t186352\n",
       "\t187982\n",
       "\t188400\n",
       "\t189117\n",
       "\t189575\n",
       "\t217485\n",
       "\t223659\n",
       "\t224900\n",
       "\t226192\n",
       "\t235111\n",
       "\t235274\n",
       "\t236309\n",
       "\t236935\n",
       "\t237358\n",
       "\t237547\n",
       "\t237795\n",
       "\t237885\n",
       "\t239386\n",
       "\t239713\n",
       "\t240468\n",
       "\t240661\n",
       "\t240991\n",
       "\t241185\n",
       "\t243821\n",
       "\t243981\n",
       "\t244614\n",
       "\t245256\n",
       "\t245259\n",
       "\t245372\n",
       "\t245810\n",
       "\t248943\n",
       "\t249599\n",
       "\t249747\n",
       "\t249962\n",
       "\t250069\n",
       "\t…\n",
       "\t2244338\n",
       "\t2245721\n",
       "\t2248778\n",
       "\t2250403\n",
       "\t2250609\n",
       "\t2251002\n",
       "\t2254019\n",
       "\t2287571\n",
       "\t2288619\n",
       "\t2289417\n",
       "\t2289559\n",
       "\t2290338\n",
       "\t2311790\n",
       "\t2319005\n",
       "\t2319060\n",
       "\t2320681\n",
       "\t2462716\n",
       "\t2467989\n",
       "\t2499228\n",
       "\t2533338\n",
       "\t2535279\n",
       "\t2553344\n",
       "\t2576652\n",
       "\t2580386\n",
       "\t2615936\n",
       "\t2618037\n",
       "\t2627579\n",
       "\t2682470\n",
       "\t2698774\n",
       "\t2699581\n",
       "\t3291676\n",
       "\t3300058\n",
       "\t3301490\n",
       "\t3345477\n",
       "\t3371097\n",
       "\t3385938\n",
       "\t3390751\n",
       "\t3393959\n",
       "\t3399714\n",
       "\t3478780\n",
       "\t3542906\n",
       "\t3572343\n",
       "\t3584095\n",
       "\t3584425\n",
       "\t3586477\n",
       "\t3591385\n",
       "\t3623347\n",
       "\t3625250\n",
       "\t3735750\n",
       "\t3775598\n",
       "]"
      ]
     },
     "execution_count": 21,
     "metadata": {},
     "output_type": "execute_result"
    }
   ],
   "source": [
    "merged_df2[\"hotel_id\"].unique()"
   ]
  },
  {
   "cell_type": "code",
   "execution_count": null,
   "metadata": {},
   "outputs": [],
   "source": []
  }
 ],
 "metadata": {
  "kernelspec": {
   "display_name": "Python 3 (ipykernel)",
   "language": "python",
   "name": "python3"
  },
  "language_info": {
   "codemirror_mode": {
    "name": "ipython",
    "version": 3
   },
   "file_extension": ".py",
   "mimetype": "text/x-python",
   "name": "python",
   "nbconvert_exporter": "python",
   "pygments_lexer": "ipython3",
   "version": "3.13.0"
  }
 },
 "nbformat": 4,
 "nbformat_minor": 4
}
