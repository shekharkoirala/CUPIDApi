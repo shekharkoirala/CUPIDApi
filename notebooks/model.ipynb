{
 "cells": [
  {
   "cell_type": "code",
   "execution_count": 1,
   "id": "4a093f0f-521c-4519-94f3-d02d8c26d010",
   "metadata": {},
   "outputs": [],
   "source": [
    "import json\n",
    "import random\n",
    "with open(\"../data/train.json\", \"r\") as f:\n",
    "    train_data = json.load(f)\n"
   ]
  },
  {
   "cell_type": "code",
   "execution_count": 2,
   "id": "0ced5f98-3810-48b6-9cae-d04d627b68c1",
   "metadata": {},
   "outputs": [],
   "source": [
    "total_data = train_data[\"train_positive\"] + train_data[\"train_negative\"]\n",
    "random.shuffle(total_data)\n"
   ]
  },
  {
   "cell_type": "code",
   "execution_count": 3,
   "id": "0171ea6f-78fc-46e1-af14-f181751ae701",
   "metadata": {},
   "outputs": [
    {
     "data": {
      "text/plain": [
       "[['apartment 2 bedrooms', 'apartment', 1],\n",
       " ['apartment ensuite 62209', 'apartment ensuite 62209', 1],\n",
       " ['family studio suite city view', 'family studio suite', 1],\n",
       " ['deluxe double room terrace', 'holiday home', 0],\n",
       " ['quadruple room 2 double beds refrigerator microwave ocean view',\n",
       "  'onebedroom apartment',\n",
       "  0],\n",
       " ['presidential apartment private bathroom 3',\n",
       "  'presidential apartment private bathroom 3 no pets',\n",
       "  1],\n",
       " ['family room spa access', 'family room spa access', 1],\n",
       " ['junior suite 2 queen beds accessible refrigerator microwave',\n",
       "  'sixbedroom house',\n",
       "  0],\n",
       " ['appartraum', 'appartraum', 1],\n",
       " ['twin room with views', 'onebedroom apartment', 0]]"
      ]
     },
     "execution_count": 3,
     "metadata": {},
     "output_type": "execute_result"
    }
   ],
   "source": [
    "total_data[:10]"
   ]
  },
  {
   "cell_type": "code",
   "execution_count": 4,
   "id": "452f2bc6-9210-4ea2-80cc-3b476fdfe110",
   "metadata": {},
   "outputs": [],
   "source": [
    "from difflib import SequenceMatcher\n",
    "from sklearn.metrics.pairwise import cosine_similarity\n",
    "from sklearn.feature_extraction.text import TfidfVectorizer\n",
    "\n",
    "def token_jaccard(s1, s2):\n",
    "    set1, set2 = set(s1.lower().split()), set(s2.lower().split())\n",
    "    return len(set1 & set2) / len(set1 | set2) if set1 and set2 else 0.0\n",
    "\n",
    "def is_substring(s1, s2):\n",
    "    s1_low, s2_low = s1.lower(), s2.lower()\n",
    "    return (s1_low in s2_low) or (s2_low in s1_low)\n",
    "\n",
    "\n",
    "# Compute features\n",
    "feature_matrix = []\n",
    "labels = []\n",
    "\n",
    "\n",
    "all_names = []\n",
    "for s, r, l in total_data:\n",
    "    all_names.extend([s,r])\n",
    "\n",
    "vectorizer = TfidfVectorizer(stop_words='english').fit(all_names)\n",
    "\n",
    "\n",
    "for sup_name, ref_name, label in total_data:\n",
    "    # Similarities\n",
    "    cos_sim = cosine_similarity(vectorizer.transform([sup_name]), vectorizer.transform([ref_name]))[0,0]\n",
    "    jac = token_jaccard(sup_name, ref_name)\n",
    "    substr = 1 if is_substring(sup_name, ref_name) else 0\n",
    "    seq_ratio = SequenceMatcher(None, sup_name.lower(), ref_name.lower()).ratio()\n",
    "    feature_matrix.append([cos_sim, jac, substr, seq_ratio])\n",
    "    labels.append(label)\n",
    "\n",
    "# print(\"Feature vector for each pair:\", feature_matrix)\n",
    "# print(\"Labels:\", labels)\n"
   ]
  },
  {
   "cell_type": "code",
   "execution_count": 5,
   "id": "74f4dfd4-a9a9-4a82-a8b5-9598d9ee45bf",
   "metadata": {},
   "outputs": [
    {
     "name": "stdout",
     "output_type": "stream",
     "text": [
      "[0]\tvalidation_0-logloss:0.45866\n",
      "[1]\tvalidation_0-logloss:0.33205\n",
      "[2]\tvalidation_0-logloss:0.25161\n",
      "[3]\tvalidation_0-logloss:0.19804\n",
      "[4]\tvalidation_0-logloss:0.16158\n",
      "[5]\tvalidation_0-logloss:0.13459\n",
      "[6]\tvalidation_0-logloss:0.11801\n",
      "[7]\tvalidation_0-logloss:0.10464\n",
      "[8]\tvalidation_0-logloss:0.09455\n",
      "[9]\tvalidation_0-logloss:0.08830\n",
      "[10]\tvalidation_0-logloss:0.08312\n",
      "[11]\tvalidation_0-logloss:0.08032\n",
      "[12]\tvalidation_0-logloss:0.07757\n",
      "[13]\tvalidation_0-logloss:0.07504\n",
      "[14]\tvalidation_0-logloss:0.07345\n",
      "[15]\tvalidation_0-logloss:0.07207\n",
      "[16]\tvalidation_0-logloss:0.07099\n",
      "[17]\tvalidation_0-logloss:0.07051\n",
      "[18]\tvalidation_0-logloss:0.07117\n",
      "[19]\tvalidation_0-logloss:0.07128\n",
      "[20]\tvalidation_0-logloss:0.07069\n",
      "[21]\tvalidation_0-logloss:0.07073\n",
      "[22]\tvalidation_0-logloss:0.07075\n",
      "[23]\tvalidation_0-logloss:0.07070\n",
      "[24]\tvalidation_0-logloss:0.07208\n",
      "[25]\tvalidation_0-logloss:0.07210\n",
      "[26]\tvalidation_0-logloss:0.07132\n",
      "[27]\tvalidation_0-logloss:0.07124\n",
      "[28]\tvalidation_0-logloss:0.07174\n",
      "[29]\tvalidation_0-logloss:0.07148\n",
      "[30]\tvalidation_0-logloss:0.07174\n",
      "[31]\tvalidation_0-logloss:0.07182\n",
      "[32]\tvalidation_0-logloss:0.07206\n",
      "[33]\tvalidation_0-logloss:0.07269\n",
      "[34]\tvalidation_0-logloss:0.07252\n",
      "[35]\tvalidation_0-logloss:0.07251\n",
      "[36]\tvalidation_0-logloss:0.07286\n",
      "[37]\tvalidation_0-logloss:0.07260\n",
      "[38]\tvalidation_0-logloss:0.07418\n",
      "[39]\tvalidation_0-logloss:0.07461\n",
      "[40]\tvalidation_0-logloss:0.07348\n",
      "[41]\tvalidation_0-logloss:0.07354\n"
     ]
    },
    {
     "name": "stderr",
     "output_type": "stream",
     "text": [
      "/home/shekhar/shekhar/CUPIDApi/.venv/lib/python3.12/site-packages/xgboost/training.py:183: UserWarning: [20:32:22] WARNING: /workspace/src/learner.cc:738: \n",
      "Parameters: { \"use_label_encoder\" } are not used.\n",
      "\n",
      "  bst.update(dtrain, iteration=i, fobj=obj)\n"
     ]
    },
    {
     "name": "stdout",
     "output_type": "stream",
     "text": [
      "[42]\tvalidation_0-logloss:0.07413\n",
      "[43]\tvalidation_0-logloss:0.07430\n",
      "[44]\tvalidation_0-logloss:0.07453\n",
      "[45]\tvalidation_0-logloss:0.07459\n",
      "[46]\tvalidation_0-logloss:0.07452\n",
      "[47]\tvalidation_0-logloss:0.07442\n",
      "[48]\tvalidation_0-logloss:0.07454\n",
      "[49]\tvalidation_0-logloss:0.07504\n",
      "[50]\tvalidation_0-logloss:0.07518\n",
      "[51]\tvalidation_0-logloss:0.07588\n",
      "[52]\tvalidation_0-logloss:0.07622\n",
      "[53]\tvalidation_0-logloss:0.07699\n",
      "[54]\tvalidation_0-logloss:0.07712\n",
      "[55]\tvalidation_0-logloss:0.07695\n",
      "[56]\tvalidation_0-logloss:0.07727\n",
      "[57]\tvalidation_0-logloss:0.07750\n",
      "[58]\tvalidation_0-logloss:0.07785\n",
      "[59]\tvalidation_0-logloss:0.07836\n",
      "[60]\tvalidation_0-logloss:0.07806\n",
      "[61]\tvalidation_0-logloss:0.07778\n",
      "[62]\tvalidation_0-logloss:0.07815\n",
      "[63]\tvalidation_0-logloss:0.07797\n",
      "[64]\tvalidation_0-logloss:0.07817\n",
      "[65]\tvalidation_0-logloss:0.07802\n",
      "[66]\tvalidation_0-logloss:0.07847\n",
      "[67]\tvalidation_0-logloss:0.07869\n",
      "[68]\tvalidation_0-logloss:0.07926\n",
      "[69]\tvalidation_0-logloss:0.07982\n",
      "[70]\tvalidation_0-logloss:0.07993\n",
      "[71]\tvalidation_0-logloss:0.08027\n",
      "[72]\tvalidation_0-logloss:0.08059\n",
      "[73]\tvalidation_0-logloss:0.08041\n",
      "[74]\tvalidation_0-logloss:0.08051\n",
      "[75]\tvalidation_0-logloss:0.08084\n",
      "[76]\tvalidation_0-logloss:0.08156\n",
      "[77]\tvalidation_0-logloss:0.08124\n",
      "[78]\tvalidation_0-logloss:0.08173\n",
      "[79]\tvalidation_0-logloss:0.08229\n",
      "[80]\tvalidation_0-logloss:0.08246\n",
      "[81]\tvalidation_0-logloss:0.08283\n",
      "[82]\tvalidation_0-logloss:0.08238\n",
      "[83]\tvalidation_0-logloss:0.08222\n",
      "[84]\tvalidation_0-logloss:0.08267\n",
      "[85]\tvalidation_0-logloss:0.08276\n",
      "[86]\tvalidation_0-logloss:0.08270\n",
      "[87]\tvalidation_0-logloss:0.08283\n",
      "[88]\tvalidation_0-logloss:0.08320\n",
      "[89]\tvalidation_0-logloss:0.08324\n",
      "[90]\tvalidation_0-logloss:0.08351\n",
      "[91]\tvalidation_0-logloss:0.08375\n",
      "[92]\tvalidation_0-logloss:0.08408\n",
      "[93]\tvalidation_0-logloss:0.08415\n",
      "[94]\tvalidation_0-logloss:0.08405\n",
      "[95]\tvalidation_0-logloss:0.08395\n",
      "[96]\tvalidation_0-logloss:0.08385\n",
      "[97]\tvalidation_0-logloss:0.08405\n",
      "[98]\tvalidation_0-logloss:0.08402\n",
      "[99]\tvalidation_0-logloss:0.08434\n",
      "Classification Report:\n",
      "              precision    recall  f1-score   support\n",
      "\n",
      "           0       0.99      0.96      0.97       405\n",
      "           1       0.96      0.99      0.97       395\n",
      "\n",
      "    accuracy                           0.97       800\n",
      "   macro avg       0.97      0.97      0.97       800\n",
      "weighted avg       0.97      0.97      0.97       800\n",
      "\n",
      "Accuracy: 0.9738\n",
      "Confusion Matrix:\n",
      "[[389  16]\n",
      " [  5 390]]\n"
     ]
    }
   ],
   "source": [
    "import xgboost as xgb\n",
    "import numpy as np\n",
    "from sklearn.model_selection import train_test_split\n",
    "from sklearn.metrics import classification_report, accuracy_score, confusion_matrix\n",
    "\n",
    "\n",
    "# Convert to numpy for XGBoost\n",
    "X = np.array(feature_matrix)\n",
    "y = np.array(labels)\n",
    "\n",
    "X_train, X_test, y_train, y_test = train_test_split(X, y, test_size=0.2, random_state=42)\n",
    "\n",
    "# Train an XGBoost classifier\n",
    "model = xgb.XGBClassifier(use_label_encoder=False, eval_metric='logloss', random_state=42)\n",
    "# If classes are imbalanced, set scale_pos_weight or use class_weight to give more weight to matches.\n",
    "imbalance_ratio = sum(y==0) / sum(y==1)\n",
    "model.set_params(scale_pos_weight=imbalance_ratio)\n",
    "model.fit(X_train, y_train, eval_set=[(X_test, y_test)])\n",
    "\n",
    "# Predict on test set\n",
    "y_pred = model.predict(X_test)\n",
    "\n",
    "# Metrics calculation\n",
    "print(\"Classification Report:\")\n",
    "print(classification_report(y_test, y_pred))\n",
    "\n",
    "accuracy = accuracy_score(y_test, y_pred)\n",
    "print(f\"Accuracy: {accuracy:.4f}\")\n",
    "\n",
    "print(\"Confusion Matrix:\")\n",
    "print(confusion_matrix(y_test, y_pred))"
   ]
  },
  {
   "cell_type": "code",
   "execution_count": null,
   "id": "44cb66c5-6ee8-4794-8dc7-bc42be0835c6",
   "metadata": {},
   "outputs": [],
   "source": []
  },
  {
   "cell_type": "code",
   "execution_count": 6,
   "id": "dc11fe4d-d5dd-4ac6-bc7d-f3978c618ac8",
   "metadata": {},
   "outputs": [
    {
     "name": "stdout",
     "output_type": "stream",
     "text": [
      "Feature importances: [0.6288842  0.05110995 0.29283082 0.02717502]\n"
     ]
    }
   ],
   "source": [
    "print(\"Feature importances:\", model.feature_importances_)"
   ]
  },
  {
   "cell_type": "code",
   "execution_count": 7,
   "id": "b710cea2-8346-441e-853d-ae7bfc511a31",
   "metadata": {},
   "outputs": [],
   "source": [
    "import re\n",
    "\n",
    "def normalize_room_name(name: str) -> str:\n",
    "    name = name.lower()                           # lowercasing\n",
    "    name = re.sub(r'[^a-z0-9\\s]', '', name)       # remove punctuation/special chars\n",
    "    name = re.sub(r'\\s+', ' ', name).strip()      # collapse multiple spaces\n",
    "    return name"
   ]
  },
  {
   "cell_type": "code",
   "execution_count": 8,
   "id": "c3616b48-a2bd-4a66-a72b-bdd0ea907b74",
   "metadata": {},
   "outputs": [
    {
     "name": "stdout",
     "output_type": "stream",
     "text": [
      "Classic Room - Olympic Queen Bed - ROOM ONLY → **NO MATCH** (outlier) (score=0.91)\n",
      "CLASSIC ROOM ADA - ROOM ONLY → **MATCH** with \"Classic Room\" (score=1.00)\n",
      "SUPERIOR ROOM ADA - ROOM ONLY → **NO MATCH** (outlier) (score=0.67)\n",
      "Superior Room - Olympic Queen Bed - ROOM ONLY → **NO MATCH** (outlier) (score=0.96)\n",
      "Superior City View - Olympic Queen Bed - ROOM ONLY → **MATCH** with \"Superior Room with City View\" (score=1.00)\n",
      "Balcony Room - Olympic Queen Bed - ROOM ONLY → **NO MATCH** (outlier) (score=0.96)\n"
     ]
    }
   ],
   "source": [
    "hotel3_supplier = [\"Classic Room - Olympic Queen Bed - ROOM ONLY\",\"CLASSIC ROOM ADA - ROOM ONLY\",\"SUPERIOR ROOM ADA - ROOM ONLY\",\"Superior Room - Olympic Queen Bed - ROOM ONLY\",\"Superior City View - Olympic Queen Bed - ROOM ONLY\",\"Balcony Room - Olympic Queen Bed - ROOM ONLY\"]\n",
    "hotel3_reference = [\"Classic Room\",\"Superior Room\",\"Superior Room with City View\",\"Balcony Room\",\"Classic Room - Disability Access\",\"Superior Room - Disability Access\",\"Junior Suite - Disability Access\"]\n",
    "\n",
    "for sup_name in hotel3_supplier:\n",
    "    best_match = None\n",
    "    best_score = 0.0\n",
    "    for ref_name in hotel3_reference:\n",
    "        # Compute features for this pair (using the same functions and vectorizer as before)\n",
    "        cos_sim = cosine_similarity(vectorizer.transform([normalize_room_name(sup_name)]), vectorizer.transform([normalize_room_name(ref_name)]))[0,0]\n",
    "        jac = token_jaccard(sup_name, ref_name)\n",
    "        substr = 1 if is_substring(sup_name, ref_name) else 0\n",
    "        seq_ratio = SequenceMatcher(None, sup_name.lower(), ref_name.lower()).ratio()\n",
    "        features = np.array([[cos_sim, jac, substr, seq_ratio]])\n",
    "        # Predict probability of match\n",
    "        match_prob = model.predict_proba(features)[0,1]\n",
    "        if match_prob > best_score:\n",
    "            best_score = match_prob\n",
    "            best_match = ref_name\n",
    "    # Decide if above threshold\n",
    "    if best_score >= 0.99:  # using 0.5 for this example threshold\n",
    "        print(f\"{sup_name} → **MATCH** with \\\"{best_match}\\\" (score={best_score:.2f})\")\n",
    "    else:\n",
    "        print(f\"{sup_name} → **NO MATCH** (outlier) (score={best_score:.2f})\")"
   ]
  },
  {
   "cell_type": "code",
   "execution_count": null,
   "id": "a3654b66-ebc3-4553-94c0-88c31d321678",
   "metadata": {},
   "outputs": [],
   "source": []
  }
 ],
 "metadata": {
  "kernelspec": {
   "display_name": "Python 3 (ipykernel)",
   "language": "python",
   "name": "python3"
  },
  "language_info": {
   "codemirror_mode": {
    "name": "ipython",
    "version": 3
   },
   "file_extension": ".py",
   "mimetype": "text/x-python",
   "name": "python",
   "nbconvert_exporter": "python",
   "pygments_lexer": "ipython3",
   "version": "3.12.7"
  }
 },
 "nbformat": 4,
 "nbformat_minor": 5
}
