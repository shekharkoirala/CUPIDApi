{
 "cells": [
  {
   "cell_type": "code",
   "execution_count": 1,
   "id": "1a02ca28-e6cf-4dba-959d-93df23ba2aeb",
   "metadata": {},
   "outputs": [],
   "source": [
    "import os\n",
    "import sys\n",
    "\n",
    "new_path = \"/\".join(os.getcwd().split(\"/\")[:-1])\n",
    "sys.path.append(new_path)\n",
    "\n",
    "# print(new_path)\n",
    "from app.utils.config_loader import ConfigLoader\n",
    "from app.utils.logger import CustomLogger\n",
    "config = ConfigLoader.load_config(f\"{new_path}/app/config/config.yaml\")\n",
    "logger = CustomLogger.setup_logger(config[\"log_level\"])"
   ]
  },
  {
   "cell_type": "code",
   "execution_count": 2,
   "id": "04ef6ce2-2a23-4d2f-9932-0c4dac513583",
   "metadata": {},
   "outputs": [],
   "source": [
    "import xgboost as xgb\n",
    "from difflib import SequenceMatcher\n",
    "from sklearn.metrics.pairwise import cosine_similarity\n",
    "from sklearn.feature_extraction.text import TfidfVectorizer\n",
    "from sentence_transformers import SentenceTransformer\n",
    "import numpy as np\n",
    "from sklearn.preprocessing import StandardScaler\n",
    "from sklearn.feature_selection import SelectKBest, f_classif\n",
    "import pickle\n",
    "from app.utils.config_loader import ConfigLoader\n",
    "from app.utils.helper import normalize_room_name\n"
   ]
  },
  {
   "cell_type": "code",
   "execution_count": 3,
   "id": "c59beb1a-154a-4942-b93a-548d35b43530",
   "metadata": {},
   "outputs": [],
   "source": [
    "model = xgb.XGBClassifier(\n",
    "                use_label_encoder=False,\n",
    "                eval_metric=config[\"model_configs\"][\"xgb\"][\"fixed_params\"][\"eval_metric\"],\n",
    "                random_state=config[\"random_state\"],\n",
    "            )\n",
    "\n",
    "model.load_model(f'../{config[\"model_configs\"][\"xgb\"][\"model_path\"]}')\n",
    "\n",
    "vectorizer_path = f'../{config[\"data\"][\"vectorizer\"]}'\n",
    "with open(vectorizer_path, \"rb\") as f:\n",
    "    vectorizer = pickle.load(f)"
   ]
  },
  {
   "cell_type": "code",
   "execution_count": 15,
   "id": "2cc66f4c-de2c-40f8-9e64-de24c5906d81",
   "metadata": {},
   "outputs": [],
   "source": [
    "from difflib import SequenceMatcher\n",
    "from sklearn.metrics.pairwise import cosine_similarity\n",
    "\n",
    "def get_feature_inference(ref_name: str, sup_name: str, vectorizer: TfidfVectorizer) -> np.ndarray:\n",
    "    feature_type = ConfigLoader.get_config()[\"feature_type\"]\n",
    "    model_name = ConfigLoader.get_config()[\"sentence_transformer_model\"]\n",
    "    embedding_model = SentenceTransformer(model_name)\n",
    "    if feature_type == \"numeric_feature\":\n",
    "        ref_norm = normalize_room_name(ref_name)\n",
    "        sup_norm = normalize_room_name(sup_name)\n",
    "        \n",
    "        ref_tokens = ref_norm.split() if ref_norm else []\n",
    "        sup_tokens = sup_norm.split() if sup_norm else []\n",
    "        ref_tokens = set(ref_norm.split()) if ref_norm else set()\n",
    "        sup_tokens = set(sup_norm.split()) if sup_norm else set()\n",
    "        cos_sim = cosine_similarity(vectorizer.transform([sup_norm]), vectorizer.transform([ref_norm]))[0, 0]\n",
    "        jac = jaccard_similarity_score(sup_tokens, ref_tokens)\n",
    "        substr = 1 if is_substring(sup_norm, ref_norm) else 0\n",
    "        seq_ratio = SequenceMatcher(None, sup_norm.lower(), ref_norm.lower()).ratio()\n",
    "        emb_cos_sim = embedding_cosine_similarity(sup_norm.lower(), ref_norm.lower(), embedding_model)\n",
    "        char_ngram_jaccard_score = char_ngram_jaccard(sup_norm.lower(), ref_norm.lower())     \n",
    "        features = np.array([[0.8 * cos_sim, jac, substr, seq_ratio, 1.5 * emb_cos_sim, char_ngram_jaccard_score]])\n",
    "        return features\n",
    "    elif feature_type == \"embedding_feature\":\n",
    "        model_name = ConfigLoader.get_config()[\"sentence_transformer_model\"]\n",
    "        model = SentenceTransformer(model_name)\n",
    "        sup_embedding = model.encode(normalize_room_name(sup_name))\n",
    "        ref_embedding = model.encode(normalize_room_name(ref_name))\n",
    "        abs_diff = np.abs(sup_embedding - ref_embedding)\n",
    "        mult_embedding = sup_embedding * ref_embedding\n",
    "        features = np.concatenate([sup_embedding, ref_embedding, abs_diff, mult_embedding])\n",
    "        return features\n",
    "\n",
    "def jaccard_similarity_score(s1_tokens: set, s2_tokens: set) -> float:\n",
    "    if not s1_tokens and not s2_tokens:\n",
    "        return 1.0  # define Jaccard(∅, ∅) = 1 (both empty strings considered identical)\n",
    "    if not s1_tokens or not s2_tokens:\n",
    "        return 0.0\n",
    "    inter = s1_tokens.intersection(s2_tokens)\n",
    "    union = s1_tokens.union(s2_tokens)\n",
    "    return float(len(inter) / len(union))\n",
    "\n",
    "\n",
    "def is_substring(s1: str, s2: str) -> bool:\n",
    "    s1_low, s2_low = s1.lower(), s2.lower()\n",
    "    return (s1_low in s2_low) or (s2_low in s1_low)\n",
    "\n",
    "\n",
    "def load_vectorizer_pkl_file() -> TfidfVectorizer:\n",
    "    vectorizer_path = ConfigLoader.get_config()[\"data\"][\"vectorizer\"]\n",
    "    with open(vectorizer_path, \"rb\") as f:\n",
    "        vectorizer = pickle.load(f)\n",
    "    return vectorizer\n",
    "\n",
    "\n",
    "def embedding_cosine_similarity(s1: str, s2: str, embedding_model: SentenceTransformer) -> float:\n",
    "    emb1 = embedding_model.encode([s1])[0]\n",
    "    emb2 = embedding_model.encode([s2])[0]\n",
    "    # Compute cosine similarity manually\n",
    "    # (avoid zero-division by adding a small epsilon to norms)\n",
    "    norm1 = np.linalg.norm(emb1)\n",
    "    norm2 = np.linalg.norm(emb2)\n",
    "    if norm1 == 0 or norm2 == 0:\n",
    "        return 0.0\n",
    "    cos_sim = np.dot(emb1, emb2) / (norm1 * norm2)\n",
    "    return float(cos_sim)\n",
    "\n",
    "def char_ngram_jaccard(s1: str, s2: str, n: int = 3) -> float:\n",
    "    \"\"\"\n",
    "    Compute Jaccard similarity of character n-grams between two strings.\n",
    "    By default, uses n=3 (trigrams). \n",
    "    \"\"\"\n",
    "    if not s1 and not s2:\n",
    "        return 1.0\n",
    "    if not s1 or not s2:\n",
    "        return 0.0\n",
    "    # Generate set of character n-grams for each string\n",
    "    def ngrams(text, n):\n",
    "        return { text[i:i+n] for i in range(len(text) - n + 1) }  # set of all n-length substrings\n",
    "    set1 = ngrams(s1, n)\n",
    "    set2 = ngrams(s2, n)\n",
    "    return jaccard_similarity_score(set1, set2)\n"
   ]
  },
  {
   "cell_type": "code",
   "execution_count": 16,
   "id": "2bda5995-d330-4be8-9ca7-5564d3f70a89",
   "metadata": {},
   "outputs": [
    {
     "name": "stdout",
     "output_type": "stream",
     "text": [
      "Feature importances: [0.7914176  0.04135257 0.12760274 0.01846616 0.01104024 0.01012074]\n"
     ]
    }
   ],
   "source": [
    "print(\"Feature importances:\", model.feature_importances_)"
   ]
  },
  {
   "cell_type": "code",
   "execution_count": 10,
   "id": "04275dd5-a892-40b3-8b7a-2fa4114554c7",
   "metadata": {},
   "outputs": [
    {
     "name": "stdout",
     "output_type": "stream",
     "text": [
      "Feature importances: [0.8251176  0.0324874  0.10662588 0.0183772  0.00639508 0.01099679]\n"
     ]
    }
   ],
   "source": [
    "print(\"Feature importances:\", model.feature_importances_)"
   ]
  },
  {
   "cell_type": "code",
   "execution_count": 11,
   "id": "da75fc1f-e035-4f51-9a85-69b290cdd5e9",
   "metadata": {},
   "outputs": [],
   "source": [
    "supplier_room_names = ['Classic Room - Olympic Queen Bed - ROOM ONLY', 'CLASSIC ROOM ADA - ROOM ONLY', 'SUPERIOR ROOM ADA - ROOM ONLY', 'Superior Room - Olympic Queen Bed - ROOM ONLY', 'Superior City View - Olympic Queen Bed - ROOM ONLY', 'Balcony Room - Olympic Queen Bed - ROOM ONLY']\n",
    "reference_room_names = ['Classic Room', 'Superior Room', 'Superior Room with City View', 'Balcony Room', 'Classic Room - Disability Access', 'Superior Room - Disability Access', 'Junior Suite - Disability Access']"
   ]
  },
  {
   "cell_type": "code",
   "execution_count": 10,
   "id": "645650ae-8bd6-42c0-bf48-294a932edd29",
   "metadata": {},
   "outputs": [],
   "source": [
    "supplier_room_names = [\"Classic Room - Olympic Queen Bed - ROOM ONLY\",\"CLASSIC ROOM ADA - ROOM ONLY\",\"SUPERIOR ROOM ADA - ROOM ONLY\",\"Superior Room - Olympic Queen Bed - ROOM ONLY\",\"Superior City View - Olympic Queen Bed - ROOM ONLY\",\"Balcony Room - Olympic Queen Bed - ROOM ONLY\"]\n",
    "reference_room_names = [\"Classic Room\",\"Superior Room\",\"Superior Room with City View\",\"Balcony Room\",\"Classic Room - Disability Access\",\"Superior Room - Disability Access\",\"Junior Suite - Disability Access\"]\n"
   ]
  },
  {
   "cell_type": "code",
   "execution_count": 13,
   "id": "b2c20d3f-6bb3-478d-a087-cdbf0aff3428",
   "metadata": {},
   "outputs": [
    {
     "name": "stderr",
     "output_type": "stream",
     "text": [
      "2025-03-31 23:01:28,490 - cupid-api - INFO - classic room olympic queen bed room only ->/t-> classic room score: 0.308853417634964\n",
      "2025-03-31 23:01:30,147 - cupid-api - INFO - classic room olympic queen bed room only ->/t-> superior room score: 0.8980321288108826\n",
      "2025-03-31 23:01:31,846 - cupid-api - INFO - classic room olympic queen bed room only ->/t-> superior room with city view score: 0.7342244386672974\n",
      "2025-03-31 23:01:33,201 - cupid-api - INFO - classic room olympic queen bed room only ->/t-> balcony room score: 0.8607859015464783\n",
      "2025-03-31 23:01:34,716 - cupid-api - INFO - classic room olympic queen bed room only ->/t-> classic room disability access score: 0.33043402433395386\n",
      "2025-03-31 23:01:36,263 - cupid-api - INFO - classic room olympic queen bed room only ->/t-> superior room disability access score: 0.0017569343326613307\n",
      "2025-03-31 23:01:38,224 - cupid-api - INFO - classic room olympic queen bed room only ->/t-> junior suite disability access score: 0.01659599505364895\n",
      "2025-03-31 23:01:38,227 - cupid-api - INFO - Best Match: superior room score: 0.8980321288108826 False of classic room olympic queen bed room only\n",
      "2025-03-31 23:01:40,337 - cupid-api - INFO - classic room ada room only ->/t-> classic room score: 0.9963494539260864\n",
      "2025-03-31 23:01:41,822 - cupid-api - INFO - classic room ada room only ->/t-> superior room score: 0.3862055838108063\n",
      "2025-03-31 23:01:43,266 - cupid-api - INFO - classic room ada room only ->/t-> superior room with city view score: 0.4946057200431824\n",
      "2025-03-31 23:01:44,758 - cupid-api - INFO - classic room ada room only ->/t-> balcony room score: 0.6613902449607849\n",
      "2025-03-31 23:01:46,743 - cupid-api - INFO - classic room ada room only ->/t-> classic room disability access score: 0.2094903588294983\n",
      "2025-03-31 23:01:48,138 - cupid-api - INFO - classic room ada room only ->/t-> superior room disability access score: 0.00553138880059123\n",
      "2025-03-31 23:01:50,559 - cupid-api - INFO - classic room ada room only ->/t-> junior suite disability access score: 0.012966119684278965\n",
      "2025-03-31 23:01:50,560 - cupid-api - INFO - Best Match: classic room score: 0.9963494539260864 True of classic room ada room only\n",
      "2025-03-31 23:01:52,210 - cupid-api - INFO - superior room ada room only ->/t-> classic room score: 0.3862055838108063\n",
      "2025-03-31 23:01:53,781 - cupid-api - INFO - superior room ada room only ->/t-> superior room score: 0.9925059676170349\n",
      "2025-03-31 23:01:55,444 - cupid-api - INFO - superior room ada room only ->/t-> superior room with city view score: 0.12012068927288055\n",
      "2025-03-31 23:01:56,884 - cupid-api - INFO - superior room ada room only ->/t-> balcony room score: 0.8149125576019287\n",
      "2025-03-31 23:01:59,321 - cupid-api - INFO - superior room ada room only ->/t-> classic room disability access score: 0.004186698701232672\n",
      "2025-03-31 23:02:01,268 - cupid-api - INFO - superior room ada room only ->/t-> superior room disability access score: 0.21264535188674927\n",
      "2025-03-31 23:02:02,751 - cupid-api - INFO - superior room ada room only ->/t-> junior suite disability access score: 0.0035039344802498817\n",
      "2025-03-31 23:02:02,752 - cupid-api - INFO - Best Match: superior room score: 0.9925059676170349 True of superior room ada room only\n",
      "2025-03-31 23:02:04,381 - cupid-api - INFO - superior room olympic queen bed room only ->/t-> classic room score: 0.8688169121742249\n",
      "2025-03-31 23:02:06,129 - cupid-api - INFO - superior room olympic queen bed room only ->/t-> superior room score: 0.4395574629306793\n",
      "2025-03-31 23:02:07,881 - cupid-api - INFO - superior room olympic queen bed room only ->/t-> superior room with city view score: 0.33043402433395386\n",
      "2025-03-31 23:02:09,748 - cupid-api - INFO - superior room olympic queen bed room only ->/t-> balcony room score: 0.802636981010437\n",
      "2025-03-31 23:02:11,414 - cupid-api - INFO - superior room olympic queen bed room only ->/t-> classic room disability access score: 0.0041336421854794025\n",
      "2025-03-31 23:02:12,859 - cupid-api - INFO - superior room olympic queen bed room only ->/t-> superior room disability access score: 0.4021608829498291\n",
      "2025-03-31 23:02:14,351 - cupid-api - INFO - superior room olympic queen bed room only ->/t-> junior suite disability access score: 0.004713044967502356\n",
      "2025-03-31 23:02:14,355 - cupid-api - INFO - Best Match: classic room score: 0.8688169121742249 False of superior room olympic queen bed room only\n",
      "2025-03-31 23:02:15,972 - cupid-api - INFO - superior city view olympic queen bed room only ->/t-> classic room score: 0.00650755176320672\n",
      "2025-03-31 23:02:17,360 - cupid-api - INFO - superior city view olympic queen bed room only ->/t-> superior room score: 0.23327979445457458\n",
      "2025-03-31 23:02:19,099 - cupid-api - INFO - superior city view olympic queen bed room only ->/t-> superior room with city view score: 0.9941619038581848\n",
      "2025-03-31 23:02:21,107 - cupid-api - INFO - superior city view olympic queen bed room only ->/t-> balcony room score: 0.00822444073855877\n",
      "2025-03-31 23:02:22,636 - cupid-api - INFO - superior city view olympic queen bed room only ->/t-> classic room disability access score: 0.0017569343326613307\n",
      "2025-03-31 23:02:24,192 - cupid-api - INFO - superior city view olympic queen bed room only ->/t-> superior room disability access score: 0.43051663041114807\n",
      "2025-03-31 23:02:25,782 - cupid-api - INFO - superior city view olympic queen bed room only ->/t-> junior suite disability access score: 0.0048860847018659115\n",
      "2025-03-31 23:02:25,783 - cupid-api - INFO - Best Match: superior room with city view score: 0.9941619038581848 True of superior city view olympic queen bed room only\n",
      "2025-03-31 23:02:27,253 - cupid-api - INFO - balcony room olympic queen bed room only ->/t-> classic room score: 0.8932138681411743\n",
      "2025-03-31 23:02:28,937 - cupid-api - INFO - balcony room olympic queen bed room only ->/t-> superior room score: 0.8704845309257507\n",
      "2025-03-31 23:02:30,879 - cupid-api - INFO - balcony room olympic queen bed room only ->/t-> superior room with city view score: 0.8529936075210571\n",
      "2025-03-31 23:02:32,596 - cupid-api - INFO - balcony room olympic queen bed room only ->/t-> balcony room score: 0.10261201113462448\n",
      "2025-03-31 23:02:34,388 - cupid-api - INFO - balcony room olympic queen bed room only ->/t-> classic room disability access score: 0.0017569343326613307\n",
      "2025-03-31 23:02:35,883 - cupid-api - INFO - balcony room olympic queen bed room only ->/t-> superior room disability access score: 0.0033763586543500423\n",
      "2025-03-31 23:02:37,324 - cupid-api - INFO - balcony room olympic queen bed room only ->/t-> junior suite disability access score: 0.004627211485058069\n",
      "2025-03-31 23:02:37,325 - cupid-api - INFO - Best Match: classic room score: 0.8932138681411743 False of balcony room olympic queen bed room only\n"
     ]
    }
   ],
   "source": [
    "Results  =  []\n",
    "UnmappedRooms =   []\n",
    "\n",
    "for supplier_room_name in supplier_room_names:\n",
    "    best_match: str = \"\"\n",
    "    best_score: float = 0.0\n",
    "    for reference_room_name in reference_room_names:\n",
    "        features = get_feature_inference(ref_name=reference_room_name, sup_name=supplier_room_name, vectorizer=vectorizer)\n",
    "        match_prob: float = model.predict_proba(features.reshape(1,-1))[0, 1]\n",
    "        if match_prob >= best_score:\n",
    "            best_score = match_prob\n",
    "            best_match = normalize_room_name(reference_room_name)\n",
    "        \n",
    "        logger.info(f\"{normalize_room_name(supplier_room_name)} ->/t-> {normalize_room_name(reference_room_name)} score: {match_prob}\")\n",
    "\n",
    "    logger.info(\n",
    "        f\"Best Match: {best_match} score: {best_score} {best_score >= 0.9} of {normalize_room_name(supplier_room_name)}\"\n",
    "    )\n",
    "    if best_score >= 0.9:\n",
    "        Results.append(supplier_room_name)\n",
    "    else:\n",
    "        UnmappedRooms.append(supplier_room_name)"
   ]
  },
  {
   "cell_type": "code",
   "execution_count": 14,
   "id": "a157e8b7-e8ff-4104-90f0-3bd8ad04ee07",
   "metadata": {},
   "outputs": [
    {
     "data": {
      "text/plain": [
       "['CLASSIC ROOM ADA - ROOM ONLY',\n",
       " 'SUPERIOR ROOM ADA - ROOM ONLY',\n",
       " 'Superior City View - Olympic Queen Bed - ROOM ONLY']"
      ]
     },
     "execution_count": 14,
     "metadata": {},
     "output_type": "execute_result"
    }
   ],
   "source": [
    "Results"
   ]
  },
  {
   "cell_type": "code",
   "execution_count": 13,
   "id": "132c2a32-13d6-4d2c-b63d-5f979917db7d",
   "metadata": {},
   "outputs": [
    {
     "data": {
      "text/plain": [
       "array([ 0.02304631, -0.02174101, -0.034021  , ...,  0.00080381,\n",
       "        0.00955819,  0.0015241 ], dtype=float32)"
      ]
     },
     "execution_count": 13,
     "metadata": {},
     "output_type": "execute_result"
    }
   ],
   "source": [
    "features = get_feature_inference(ref_name=\"classic room disability access score\", sup_name=\"classic room ada room only\", vectorizer=vectorizer)\n",
    "features"
   ]
  },
  {
   "cell_type": "code",
   "execution_count": null,
   "id": "acee4947-a146-4ff1-9793-0020ac02ab8a",
   "metadata": {},
   "outputs": [
    {
     "name": "stderr",
     "output_type": "stream",
     "text": [
      "2025-04-02 03:24:27,470 - cupid-api - INFO - classic room olympic queen bed room only ->/t-> classic room score: 0.5183444619178772\n",
      "2025-04-02 03:24:28,890 - cupid-api - INFO - classic room olympic queen bed room only ->/t-> superior room score: 0.9867157340049744\n",
      "2025-04-02 03:24:30,432 - cupid-api - INFO - classic room olympic queen bed room only ->/t-> superior room with city view score: 0.0058548711240291595\n",
      "2025-04-02 03:24:32,039 - cupid-api - INFO - classic room olympic queen bed room only ->/t-> balcony room score: 0.9667254090309143\n",
      "2025-04-02 03:24:33,494 - cupid-api - INFO - classic room olympic queen bed room only ->/t-> classic room disability access score: 0.9609687924385071\n",
      "2025-04-02 03:24:35,049 - cupid-api - INFO - classic room olympic queen bed room only ->/t-> superior room disability access score: 0.00042875681538134813\n",
      "2025-04-02 03:24:37,117 - cupid-api - INFO - classic room olympic queen bed room only ->/t-> junior suite disability access score: 0.0004191535117570311\n",
      "2025-04-02 03:24:37,122 - cupid-api - INFO - Best Match: superior room score: 0.9867157340049744 True of classic room olympic queen bed room only\n",
      "2025-04-02 03:24:38,684 - cupid-api - INFO - classic room ada room only ->/t-> classic room score: 0.9936403632164001\n",
      "2025-04-02 03:24:40,524 - cupid-api - INFO - classic room ada room only ->/t-> superior room score: 0.988987386226654\n",
      "2025-04-02 03:24:42,002 - cupid-api - INFO - classic room ada room only ->/t-> superior room with city view score: 0.9845609664916992\n",
      "2025-04-02 03:24:43,845 - cupid-api - INFO - classic room ada room only ->/t-> balcony room score: 0.988987386226654\n",
      "2025-04-02 03:24:45,743 - cupid-api - INFO - classic room ada room only ->/t-> classic room disability access score: 0.9801380038261414\n",
      "2025-04-02 03:24:47,549 - cupid-api - INFO - classic room ada room only ->/t-> superior room disability access score: 0.01049829088151455\n",
      "2025-04-02 03:24:49,155 - cupid-api - INFO - classic room ada room only ->/t-> junior suite disability access score: 0.00027855843654833734\n",
      "2025-04-02 03:24:49,156 - cupid-api - INFO - Best Match: classic room score: 0.9936403632164001 True of classic room ada room only\n",
      "2025-04-02 03:24:50,875 - cupid-api - INFO - superior room ada room only ->/t-> classic room score: 0.988987386226654\n",
      "2025-04-02 03:24:52,420 - cupid-api - INFO - superior room ada room only ->/t-> superior room score: 0.7027879953384399\n",
      "2025-04-02 03:24:54,033 - cupid-api - INFO - superior room ada room only ->/t-> superior room with city view score: 0.9798614978790283\n",
      "2025-04-02 03:24:56,552 - cupid-api - INFO - superior room ada room only ->/t-> balcony room score: 0.9878467917442322\n",
      "2025-04-02 03:24:57,979 - cupid-api - INFO - superior room ada room only ->/t-> classic room disability access score: 0.011586282402276993\n",
      "2025-04-02 03:24:59,419 - cupid-api - INFO - superior room ada room only ->/t-> superior room disability access score: 0.9752486348152161\n",
      "2025-04-02 03:25:00,814 - cupid-api - INFO - superior room ada room only ->/t-> junior suite disability access score: 0.0004161204269621521\n",
      "2025-04-02 03:25:00,815 - cupid-api - INFO - Best Match: classic room score: 0.988987386226654 True of superior room ada room only\n",
      "2025-04-02 03:25:02,255 - cupid-api - INFO - superior room olympic queen bed room only ->/t-> classic room score: 0.9838134050369263\n",
      "2025-04-02 03:25:03,768 - cupid-api - INFO - superior room olympic queen bed room only ->/t-> superior room score: 0.957274317741394\n",
      "2025-04-02 03:25:05,319 - cupid-api - INFO - superior room olympic queen bed room only ->/t-> superior room with city view score: 0.9725971817970276\n",
      "2025-04-02 03:25:07,383 - cupid-api - INFO - superior room olympic queen bed room only ->/t-> balcony room score: 0.9738733172416687\n",
      "2025-04-02 03:25:09,035 - cupid-api - INFO - superior room olympic queen bed room only ->/t-> classic room disability access score: 0.007499410770833492\n",
      "2025-04-02 03:25:10,653 - cupid-api - INFO - superior room olympic queen bed room only ->/t-> superior room disability access score: 0.9668691754341125\n",
      "2025-04-02 03:25:12,320 - cupid-api - INFO - superior room olympic queen bed room only ->/t-> junior suite disability access score: 0.0005292075220495462\n",
      "2025-04-02 03:25:12,321 - cupid-api - INFO - Best Match: classic room score: 0.9838134050369263 True of superior room olympic queen bed room only\n",
      "2025-04-02 03:25:13,847 - cupid-api - INFO - superior city view olympic queen bed room only ->/t-> classic room score: 0.00849504116922617\n",
      "2025-04-02 03:25:15,520 - cupid-api - INFO - superior city view olympic queen bed room only ->/t-> superior room score: 0.9522742033004761\n",
      "2025-04-02 03:25:18,300 - cupid-api - INFO - superior city view olympic queen bed room only ->/t-> superior room with city view score: 0.8687634468078613\n",
      "2025-04-02 03:25:19,786 - cupid-api - INFO - superior city view olympic queen bed room only ->/t-> balcony room score: 0.005624936427921057\n",
      "2025-04-02 03:25:21,622 - cupid-api - INFO - superior city view olympic queen bed room only ->/t-> classic room disability access score: 0.0027038392145186663\n",
      "2025-04-02 03:25:23,061 - cupid-api - INFO - superior city view olympic queen bed room only ->/t-> superior room disability access score: 0.9866518974304199\n",
      "2025-04-02 03:25:24,699 - cupid-api - INFO - superior city view olympic queen bed room only ->/t-> junior suite disability access score: 0.0006202470394782722\n",
      "2025-04-02 03:25:24,700 - cupid-api - INFO - Best Match: superior room disability access score: 0.9866518974304199 True of superior city view olympic queen bed room only\n",
      "2025-04-02 03:25:26,560 - cupid-api - INFO - balcony room olympic queen bed room only ->/t-> classic room score: 0.9809516668319702\n",
      "2025-04-02 03:25:28,118 - cupid-api - INFO - balcony room olympic queen bed room only ->/t-> superior room score: 0.9880430698394775\n",
      "2025-04-02 03:25:29,640 - cupid-api - INFO - balcony room olympic queen bed room only ->/t-> superior room with city view score: 0.0058548711240291595\n",
      "2025-04-02 03:25:31,454 - cupid-api - INFO - balcony room olympic queen bed room only ->/t-> balcony room score: 0.6328341960906982\n",
      "2025-04-02 03:25:32,989 - cupid-api - INFO - balcony room olympic queen bed room only ->/t-> classic room disability access score: 0.0024121361784636974\n"
     ]
    }
   ],
   "source": [
    "Results  =  []\n",
    "UnmappedRooms =   []\n",
    "\n",
    "for supplier_room_name in supplier_room_names:\n",
    "    best_match: str = \"\"\n",
    "    best_score: float = 0.0\n",
    "    for reference_room_name in reference_room_names:\n",
    "        features = get_feature_inference(ref_name=reference_room_name, sup_name=supplier_room_name, vectorizer=vectorizer)\n",
    "        match_prob: float = model.predict_proba(features.reshape(1,-1))[0, 1]\n",
    "        if match_prob >= best_score:\n",
    "            best_score = match_prob\n",
    "            best_match = normalize_room_name(reference_room_name)\n",
    "        \n",
    "        logger.info(f\"{normalize_room_name(supplier_room_name)} ->/t-> {normalize_room_name(reference_room_name)} score: {match_prob}\")\n",
    "\n",
    "    logger.info(\n",
    "        f\"Best Match: {best_match} score: {best_score} {best_score >= 0.9} of {normalize_room_name(supplier_room_name)}\"\n",
    "    )\n",
    "    if best_score >= 0.9:\n",
    "        Results.append(supplier_room_name)\n",
    "    else:\n",
    "        UnmappedRooms.append(supplier_room_name)"
   ]
  },
  {
   "cell_type": "code",
   "execution_count": null,
   "id": "ed4cbab8-013c-4e66-aebd-9b90843a3650",
   "metadata": {},
   "outputs": [],
   "source": [
    "ref_name=\"classic room  access score\"\n",
    "sup_name=\"classic room  access only\"\n",
    "\n",
    "jac = jaccard_similarity_score(sup_name, ref_name)\n",
    "jac"
   ]
  },
  {
   "cell_type": "code",
   "execution_count": null,
   "id": "f36e3edc-aa2b-45f6-a4f7-30cf34295bb3",
   "metadata": {},
   "outputs": [],
   "source": [
    "UnmappedRooms"
   ]
  },
  {
   "cell_type": "code",
   "execution_count": null,
   "id": "1c45b583-9f4f-4078-a548-cdc65d3b3085",
   "metadata": {},
   "outputs": [],
   "source": [
    "for room in reference_room_names:\n",
    "    print(room)"
   ]
  },
  {
   "cell_type": "code",
   "execution_count": null,
   "id": "2ba2a8b2-9795-48ec-a5c2-e30d203405de",
   "metadata": {},
   "outputs": [],
   "source": [
    "for room in supplier_room_names:\n",
    "    print(room)"
   ]
  },
  {
   "cell_type": "code",
   "execution_count": null,
   "id": "264b2b9f-6c83-4644-a0e5-4bda297dad55",
   "metadata": {
    "scrolled": true
   },
   "outputs": [],
   "source": [
    "Results = [None] * len(supplier_room_names)\n",
    "UnmappedRooms = []\n",
    "\n",
    "# Step 1: Build full similarity matrix\n",
    "similarity_matrix = []\n",
    "for sup_idx, supplier_room_name in enumerate(supplier_room_names):\n",
    "    sim_row = []\n",
    "    for ref_idx, reference_room_name in enumerate(reference_room_names):\n",
    "        features = get_feature_inference(ref_name=reference_room_name, sup_name=supplier_room_name, vectorizer=vectorizer)\n",
    "        match_prob = model.predict_proba(features)[0, 1]\n",
    "\n",
    "        sim_row.append(match_prob)\n",
    "\n",
    "        logger.info(f\"{normalize_room_name(supplier_room_name)} ->\\t-> {normalize_room_name(reference_room_name)} score: {match_prob}\")\n",
    "\n",
    "    similarity_matrix.append(sim_row)\n",
    "\n",
    "# Step 2: Conflict-aware matching\n",
    "assigned_refs = {}  # ref_index -> sup_index\n",
    "match_sup_to_ref = [None] * len(supplier_room_names)\n",
    "\n",
    "sup_order = sorted(range(len(supplier_room_names)), key=lambda i: max(similarity_matrix[i]), reverse=True)\n",
    "\n",
    "for sup_idx in sup_order:\n",
    "    ref_scores = list(enumerate(similarity_matrix[sup_idx]))\n",
    "    ref_scores.sort(key=lambda x: -x[1])  # sort by match probability descending\n",
    "\n",
    "    for ref_idx, score in ref_scores:\n",
    "        if score < 0.3:\n",
    "            break  # don't consider anything below threshold\n",
    "\n",
    "        if ref_idx not in assigned_refs:\n",
    "            # ref not assigned yet\n",
    "            assigned_refs[ref_idx] = sup_idx\n",
    "            match_sup_to_ref[sup_idx] = ref_idx\n",
    "            break\n",
    "        else:\n",
    "            current_sup = assigned_refs[ref_idx]\n",
    "            if similarity_matrix[sup_idx][ref_idx] > similarity_matrix[current_sup][ref_idx]:\n",
    "                # reassign to better supplier\n",
    "                match_sup_to_ref[current_sup] = None\n",
    "                match_sup_to_ref[sup_idx] = ref_idx\n",
    "                assigned_refs[ref_idx] = sup_idx\n",
    "                break\n",
    "\n",
    "# Step 3: Build Results and UnmappedRooms\n",
    "for sup_idx, ref_idx in enumerate(match_sup_to_ref):\n",
    "    supplier_name = supplier_room_names[sup_idx]\n",
    "    if ref_idx is not None:\n",
    "        matched_ref_name = normalize_room_name(reference_room_names[ref_idx])\n",
    "        Results[sup_idx] = matched_ref_name\n",
    "        logger.info(\n",
    "            f\"Best Match: {matched_ref_name} score: {similarity_matrix[sup_idx][ref_idx]} True of {normalize_room_name(supplier_name)}\"\n",
    "        )\n",
    "    else:\n",
    "        UnmappedRooms.append(supplier_name)"
   ]
  },
  {
   "cell_type": "code",
   "execution_count": null,
   "id": "e2c24045-a6b9-4919-9574-94a820511915",
   "metadata": {},
   "outputs": [],
   "source": [
    "import json\n",
    "import random\n",
    "with open(\"../data/processed_data.json\", \"r\") as f:\n",
    "    train_data = json.load(f)"
   ]
  },
  {
   "cell_type": "code",
   "execution_count": null,
   "id": "689fb6dc-c3ca-464a-be3e-dbc44a93b26d",
   "metadata": {},
   "outputs": [],
   "source": [
    "for data in train_data:\n",
    "    s, r, l = data\n",
    "    if \"superior room\"  == s[0:14]:\n",
    "        print(data)"
   ]
  },
  {
   "cell_type": "code",
   "execution_count": null,
   "id": "f5f56fb7-fa41-44bd-a216-1b28582f4363",
   "metadata": {},
   "outputs": [],
   "source": []
  }
 ],
 "metadata": {
  "kernelspec": {
   "display_name": "Python 3 (ipykernel)",
   "language": "python",
   "name": "python3"
  },
  "language_info": {
   "codemirror_mode": {
    "name": "ipython",
    "version": 3
   },
   "file_extension": ".py",
   "mimetype": "text/x-python",
   "name": "python",
   "nbconvert_exporter": "python",
   "pygments_lexer": "ipython3",
   "version": "3.12.7"
  }
 },
 "nbformat": 4,
 "nbformat_minor": 5
}
