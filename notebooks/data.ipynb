{
 "cells": [
  {
   "cell_type": "code",
   "execution_count": 1,
   "id": "3f98a321-2054-4702-aeaf-55e80f0dfc90",
   "metadata": {},
   "outputs": [],
   "source": [
    "import re\n",
    "import json\n",
    "\n",
    "def normalize_room_name(name: str) -> str:\n",
    "    name = name.lower()                           # lowercasing\n",
    "    name = re.sub(r'[^a-z0-9\\s]', '', name)       # remove punctuation/special chars\n",
    "    name = re.sub(r'\\s+', ' ', name).strip()      # collapse multiple spaces\n",
    "    return name\n",
    "\n",
    "\n",
    "# print(normalize_room_name(\"Deluxe Suite with Balcony!\"))  \n",
    "with open(\"../data/merged.json\", \"r\") as f:\n",
    "    data = json.load(f)"
   ]
  },
  {
   "cell_type": "code",
   "execution_count": 2,
   "id": "9f3b35b9-9238-465d-b877-a1b60fe38611",
   "metadata": {},
   "outputs": [],
   "source": [
    "clean_data = [] \n",
    "for d in data:\n",
    "    clean_reference_data = []\n",
    "    clean_supplier_data = []\n",
    "    for ref in d[\"reference\"]:\n",
    "        clean_reference_data.append(normalize_room_name(ref))\n",
    "\n",
    "    for sup in d[\"supplier\"]:\n",
    "        clean_supplier_data.append(normalize_room_name(sup))\n",
    "\n",
    "    clean_data.append({\"reference\": clean_reference_data, \"supplier\": clean_supplier_data})\n",
    "    "
   ]
  },
  {
   "cell_type": "code",
   "execution_count": 3,
   "id": "80947c62-0988-4eb5-9b8c-6dec274f3437",
   "metadata": {
    "scrolled": true
   },
   "outputs": [
    {
     "data": {
      "text/plain": [
       "[{'reference': ['house 4 bedrooms'], 'supplier': ['house 4 bedrooms']},\n",
       " {'reference': ['onebedroom apartment with terrace',\n",
       "   'onebedroom apartment with terrace and sea view'],\n",
       "  'supplier': ['double room single use',\n",
       "   'double or twin room',\n",
       "   'triple room',\n",
       "   'triple room 2 adults 1 child',\n",
       "   'quadruple room 2 adults 2 children',\n",
       "   'quadruple room']},\n",
       " {'reference': ['condo 1 queen bed with sofa bed kitchen'],\n",
       "  'supplier': ['condo 1 queen bed with sofa bed kitchen']}]"
      ]
     },
     "execution_count": 3,
     "metadata": {},
     "output_type": "execute_result"
    }
   ],
   "source": [
    "clean_data[:3]"
   ]
  },
  {
   "cell_type": "code",
   "execution_count": 4,
   "id": "3d5a89b8-c18c-4dc0-af8f-83381adbdcfd",
   "metadata": {},
   "outputs": [],
   "source": [
    "from sklearn.feature_extraction.text import TfidfVectorizer\n",
    "from sklearn.metrics.pairwise import cosine_similarity"
   ]
  },
  {
   "cell_type": "code",
   "execution_count": 22,
   "id": "cc75776d-2373-4cfb-a2db-057605ee8c04",
   "metadata": {},
   "outputs": [],
   "source": [
    "ignore_words = [\n",
    " 'access',\n",
    " 'accessible',\n",
    " 'air',\n",
    " 'allowed',\n",
    " 'and',\n",
    " 'basic',\n",
    " 'bath',\n",
    " 'bathroom',\n",
    " 'bathrooms',\n",
    " 'bed',\n",
    " 'bedroom',\n",
    " 'bedrooms',\n",
    " 'beds',\n",
    " 'cabin',\n",
    " 'chalet',\n",
    " 'city',\n",
    " 'classic',\n",
    " 'comfort',\n",
    " 'companion',\n",
    " 'complimentary',\n",
    " 'dinner',\n",
    " 'first',\n",
    " 'floor',\n",
    " 'garden',\n",
    " 'guest',\n",
    " 'halfboard',\n",
    " 'hearing',\n",
    " 'high',\n",
    " 'hot',\n",
    " 'included',\n",
    " 'is',\n",
    " 'j',\n",
    " 'jacuzzi',\n",
    " 'japanese',\n",
    " 'junior',\n",
    " 'kitchen',\n",
    " 'luxury',\n",
    " 'mandatory',\n",
    " 'menaggio',\n",
    " 'microwave',\n",
    " 'mobility',\n",
    " 'mountain',\n",
    " 'multiple',\n",
    " 'netflixdis',\n",
    " 'no',\n",
    " 'non',\n",
    " 'nonsmoking',\n",
    " 'not',\n",
    " 'ocean',\n",
    " 'one',\n",
    " 'open',\n",
    " 'or',\n",
    " 'panoramic',\n",
    " 'partial',\n",
    " 'pet',\n",
    " 'pets',\n",
    " 'pool',\n",
    " 'resort',\n",
    " 'romantic',\n",
    " 'room',\n",
    " 'royal',\n",
    " 's',\n",
    " 'sea',\n",
    " 'shared',\n",
    " 'signature',\n",
    " 'smoking',\n",
    " 'sofa',\n",
    " 'spa',\n",
    " 'standard',\n",
    " 'suite',\n",
    " 'superior',\n",
    " 'supreme',\n",
    " 'terrace',\n",
    " 'third',\n",
    " 'three',\n",
    " 'tub',\n",
    " 'twin',\n",
    " 'two',\n",
    " 'view',\n",
    " 'village',\n",
    " 'w',\n",
    " 'waterfront',\n",
    " 'western',\n",
    " 'with'] + [str(i) for i in range(0,10) ]\n"
   ]
  },
  {
   "cell_type": "code",
   "execution_count": 23,
   "id": "a664e47b-a9ed-4df4-8db7-dd2e62d3204a",
   "metadata": {},
   "outputs": [],
   "source": [
    "def analyze_strings(data, word_to_check):\n",
    "    if not word_to_check:\n",
    "        return True\n",
    "    s = data['s'].lower()\n",
    "    r = data['r'].lower()\n",
    "    \n",
    "    # Check if any word from the list is at the start or end of 'r'\n",
    "\n",
    "    combined = \" \".join(word_to_check)\n",
    "    starts_with_word = r.startswith(combined)\n",
    "    ends_with_word = r.endswith(combined)\n",
    "    \n",
    "    s_words = s.split()\n",
    "    r_words = r.split()\n",
    "\n",
    "    if starts_with_word:\n",
    "        w_index = r_words.index(word_to_check[-1])\n",
    "        check_index = w_index+1\n",
    "        if check_index >= len(r_words):\n",
    "            print(data, word_to_check)\n",
    "        if r_words[check_index] != s_words[0]:\n",
    "            return False\n",
    "\n",
    "    if ends_with_word:\n",
    "        w_index = r_words.index(word_to_check[0])\n",
    "        check_index = w_index-1\n",
    "        if r_words[check_index] != s_words[-1]:\n",
    "            return False\n",
    "            \n",
    "    \n",
    "    # If no replacements found, return True if the word is added at the start or end\n",
    "    return starts_with_word or ends_with_word"
   ]
  },
  {
   "cell_type": "code",
   "execution_count": 58,
   "id": "eddea4f6-0fe5-4130-b28c-ce99b7003f82",
   "metadata": {},
   "outputs": [],
   "source": [
    "all_names = [name for hid in range(len(clean_data)) for name in clean_data[hid][\"supplier\"] + clean_data[hid][\"reference\"]]\n",
    "vectorizer = TfidfVectorizer(stop_words='english').fit(all_names)\n",
    "\n",
    "# Identify likely matches by cosine similarity within each hotel\n",
    "\n",
    "good_pairs = set()\n",
    "bad_pairs = set()\n",
    "\n",
    "words_not_matching = []\n",
    "threshold = 0.7\n",
    "for hotels in clean_data:\n",
    "    supplier = hotels['supplier']\n",
    "    reference = hotels['reference']\n",
    "    sims = cosine_similarity(vectorizer.transform(supplier), vectorizer.transform(reference))\n",
    "    for i, sup_name in enumerate(supplier):\n",
    "        highest_score = 0\n",
    "        highest_match = {}\n",
    "        for j, ref_name in enumerate(reference):\n",
    "            if sims[i,j] >= highest_score:\n",
    "                highest_match = {\"s\": sup_name, \"r\": ref_name}\n",
    "                highest_score = sims[i,j]\n",
    "\n",
    "        if highest_score >= 0.5:# and highest_score<0.9999999999:\n",
    "            r_words = highest_match[\"r\"].split()\n",
    "            no_match = [w for w in r_words if w not in highest_match[\"s\"].split()]\n",
    "            no_match_count = len(no_match)\n",
    "            for w in no_match:\n",
    "                if w in ignore_words:\n",
    "                    no_match_count -=1\n",
    "            # print(r_words, no_match)\n",
    "            if not no_match_count:\n",
    "                # print(f\"{highest_score:.2f}\", highest_match, no_match)\n",
    "                if analyze_strings(highest_match, no_match):\n",
    "                    # print(f\"{highest_score:.2f}\", highest_match[\"s\"], \"\\t\", highest_match[\"r\"], no_match ,)\n",
    "                    good_pairs.add((highest_match[\"s\"], highest_match[\"r\"], 1 ))\n",
    "                    continue\n",
    " \n",
    "        bad_pairs.add((highest_match[\"s\"], highest_match[\"r\"], 0 ))\n",
    "                # if analyze_strings(highest_match, no_match):\n",
    "                #     print(f\"{highest_score:.2f}\", highest_match[\"s\"], \"\\t\", highest_match[\"r\"], no_match ,)\n",
    "            # words_not_matching.extend(no_match)\n",
    "            # break\n",
    "# set(words_not_matching)"
   ]
  },
  {
   "cell_type": "code",
   "execution_count": 26,
   "id": "3d5779fd-da1e-480f-973b-423bba422cdf",
   "metadata": {},
   "outputs": [
    {
     "data": {
      "text/plain": [
       "(52293, 61425)"
      ]
     },
     "execution_count": 26,
     "metadata": {},
     "output_type": "execute_result"
    }
   ],
   "source": [
    "len(good_pairs), len(bad_pairs)"
   ]
  },
  {
   "cell_type": "code",
   "execution_count": 31,
   "id": "a6ef4b33-9444-4eab-ac2b-1c259430ad85",
   "metadata": {},
   "outputs": [
    {
     "data": {
      "text/plain": [
       "(20161, 43648)"
      ]
     },
     "execution_count": 31,
     "metadata": {},
     "output_type": "execute_result"
    }
   ],
   "source": [
    "len(good_pairs), len(bad_pairs)"
   ]
  },
  {
   "cell_type": "code",
   "execution_count": 59,
   "id": "b3ac8d4c-04cc-4694-a5a0-dbdf6e04f74e",
   "metadata": {},
   "outputs": [
    {
     "data": {
      "text/plain": [
       "(20542, 43267)"
      ]
     },
     "execution_count": 59,
     "metadata": {},
     "output_type": "execute_result"
    }
   ],
   "source": [
    "len(good_pairs), len(bad_pairs)"
   ]
  },
  {
   "cell_type": "code",
   "execution_count": 33,
   "id": "7cce5b91-8180-4921-849d-0db4657906d3",
   "metadata": {},
   "outputs": [
    {
     "data": {
      "text/plain": [
       "[('standard double room non smoking schafgarbe',\n",
       "  'standard double room non smoking schafgarbe',\n",
       "  1),\n",
       " ('luxury penthouse 2 bedrooms balcony city view',\n",
       "  'luxury penthouse 2 bedrooms balcony city view',\n",
       "  1),\n",
       " ('room momomonica', 'room momomonica', 1),\n",
       " ('standard double room upperdeck', 'standard double room upperdeck', 1),\n",
       " ('superior double room external private bathroom',\n",
       "  'superior double room external private bathroom',\n",
       "  1),\n",
       " ('apartment 2 bedrooms accessible private pool',\n",
       "  'apartment 2 bedrooms accessible private pool',\n",
       "  1),\n",
       " ('executive apartment 2 queen beds', 'executive apartment 2 queen beds', 1),\n",
       " ('comfort room 2 twin beds annexe', 'comfort room 2 twin beds annexe', 1),\n",
       " ('basic single private ensuite room', 'basic single private ensuite room', 1),\n",
       " ('family room balcony', 'family room balcony', 1)]"
      ]
     },
     "execution_count": 33,
     "metadata": {},
     "output_type": "execute_result"
    }
   ],
   "source": [
    "list(good_pairs)[50:60]"
   ]
  },
  {
   "cell_type": "code",
   "execution_count": 65,
   "id": "fa64a9c4-6c14-4af1-8dc3-b3394f1d016d",
   "metadata": {},
   "outputs": [],
   "source": [
    "d = 0 \n",
    "same_list = []\n",
    "diff_list = []\n",
    "for pair in list(good_pairs):\n",
    "    a, b,c = pair\n",
    "    if a != b:\n",
    "        diff_list.append(pair)\n",
    "    else:\n",
    "        same_list.append(pair)\n",
    "        \n"
   ]
  },
  {
   "cell_type": "code",
   "execution_count": 66,
   "id": "d51e6bcd-cac0-4d65-81a9-cff35c43f28a",
   "metadata": {},
   "outputs": [
    {
     "data": {
      "text/plain": [
       "(19735, 807)"
      ]
     },
     "execution_count": 66,
     "metadata": {},
     "output_type": "execute_result"
    }
   ],
   "source": [
    "len(same_list), len(diff_list)"
   ]
  },
  {
   "cell_type": "code",
   "execution_count": 70,
   "id": "31d2edd8-5039-4f94-b2a6-9652cb159d15",
   "metadata": {},
   "outputs": [],
   "source": [
    "import random\n",
    "train_positive = random.sample(same_list, 2000- len(diff_list)) + diff_list"
   ]
  },
  {
   "cell_type": "code",
   "execution_count": 72,
   "id": "6454802a-abf9-4cd0-8bc4-7d3b64ed48c6",
   "metadata": {
    "scrolled": true
   },
   "outputs": [],
   "source": [
    "train_negative = random.sample(list(bad_pairs), 2000)"
   ]
  },
  {
   "cell_type": "code",
   "execution_count": 75,
   "id": "3b67956c-f272-438c-8fca-e88f58d415ec",
   "metadata": {},
   "outputs": [],
   "source": [
    "import json\n",
    "with open(\"../data/train.json\", \"w\") as f:\n",
    "    json.dump({\"train_positive\": train_positive, \"train_negative\": train_negative} , f)"
   ]
  },
  {
   "cell_type": "code",
   "execution_count": 76,
   "id": "fa491cee-b97a-4fc6-b624-54f6bd142ba1",
   "metadata": {},
   "outputs": [],
   "source": [
    "with open(\"../data/train.json\", \"r\") as f:\n",
    "    data_r = json.load(f)"
   ]
  },
  {
   "cell_type": "code",
   "execution_count": null,
   "id": "c326fb5e-347b-4910-a8eb-47fc9c271169",
   "metadata": {
    "scrolled": true
   },
   "outputs": [],
   "source": [
    "data_r"
   ]
  },
  {
   "cell_type": "code",
   "execution_count": null,
   "id": "31e457cf-b27a-4bf5-bb62-7b9b81242461",
   "metadata": {},
   "outputs": [],
   "source": []
  }
 ],
 "metadata": {
  "kernelspec": {
   "display_name": "Python 3 (ipykernel)",
   "language": "python",
   "name": "python3"
  },
  "language_info": {
   "codemirror_mode": {
    "name": "ipython",
    "version": 3
   },
   "file_extension": ".py",
   "mimetype": "text/x-python",
   "name": "python",
   "nbconvert_exporter": "python",
   "pygments_lexer": "ipython3",
   "version": "3.12.7"
  }
 },
 "nbformat": 4,
 "nbformat_minor": 5
}
